{
 "cells": [
  {
   "cell_type": "code",
   "execution_count": 1,
   "id": "d9c50273",
   "metadata": {},
   "outputs": [],
   "source": [
    "import pandas as pd\n",
    "import os\n",
    "os.environ['USE_PYGEOS'] = '0'\n",
    "import geopandas as gpd\n",
    "import numpy as np\n",
    "from pathlib import Path"
   ]
  },
  {
   "cell_type": "code",
   "execution_count": 2,
   "id": "594386cd",
   "metadata": {},
   "outputs": [],
   "source": [
    "datadir = '../Data/'"
   ]
  },
  {
   "cell_type": "code",
   "execution_count": 3,
   "id": "706c43d8",
   "metadata": {},
   "outputs": [],
   "source": [
    "registered_projects = pd.read_excel(os.path.join(datadir, 'CSV','verra_registry.xlsx'))"
   ]
  },
  {
   "cell_type": "code",
   "execution_count": 6,
   "id": "3f72c4cb",
   "metadata": {},
   "outputs": [
    {
     "data": {
      "text/plain": [
       "array(['Middle East', 'Asia', 'Europe', 'Africa', nan, 'Oceania',\n",
       "       'North America', 'Latin America'], dtype=object)"
      ]
     },
     "execution_count": 6,
     "metadata": {},
     "output_type": "execute_result"
    }
   ],
   "source": [
    "registered_projects['Region'].uniqueque()"
   ]
  },
  {
   "cell_type": "code",
   "execution_count": 7,
   "id": "18b1d074",
   "metadata": {},
   "outputs": [],
   "source": [
    "active_south_america_projects = registered_projects.loc[(registered_projects['Status'] == 'Registered')&(registered_projects['Project Type']=='Agriculture Forestry and Other Land Use')&(registered_projects['Region']=='Latin America')]"
   ]
  },
  {
   "cell_type": "code",
   "execution_count": 38,
   "id": "0d9d8adc",
   "metadata": {},
   "outputs": [],
   "source": [
    "active_africa_projects = registered_projects.loc[(registered_projects['Status'] == 'Registered')&(registered_projects['Project Type']=='Agriculture Forestry and Other Land Use')&(registered_projects['Region']=='Africa')]"
   ]
  },
  {
   "cell_type": "code",
   "execution_count": 39,
   "id": "cc8529d5",
   "metadata": {},
   "outputs": [],
   "source": [
    "active_south_america_projects.to_csv('../Data/CSV/active_SouthAmerica_projects.csv')"
   ]
  },
  {
   "cell_type": "code",
   "execution_count": 40,
   "id": "827aa888",
   "metadata": {},
   "outputs": [],
   "source": [
    "active_africa_projects.to_csv('active_Africa_projects.csv')"
   ]
  },
  {
   "cell_type": "code",
   "execution_count": 41,
   "id": "ceddd54c",
   "metadata": {},
   "outputs": [],
   "source": [
    "africa_project_ids = active_africa_projects.ID.unique()"
   ]
  },
  {
   "cell_type": "code",
   "execution_count": 42,
   "id": "3389b0e6",
   "metadata": {},
   "outputs": [
    {
     "data": {
      "text/plain": [
       "array([2410, 2401, 2382, 2338, 2339, 2324, 2319, 1071, 1339, 2085, 1900,\n",
       "       1897, 1052,  829, 1327,  799, 1775,  721,  987,  898, 1674, 1225,\n",
       "       1311,  993,  995,  899,  824,  825,  826,  827,  737, 1343, 1168,\n",
       "        562,  934,  142, 1408, 1047, 1340, 1532,  594,  595,  596,  597,\n",
       "        996, 1325, 1215,  673,  612, 1201, 1318,  902, 1202, 1359,  720])"
      ]
     },
     "execution_count": 42,
     "metadata": {},
     "output_type": "execute_result"
    }
   ],
   "source": [
    "africa_project_ids"
   ]
  },
  {
   "cell_type": "code",
   "execution_count": 14,
   "id": "331547b1",
   "metadata": {},
   "outputs": [],
   "source": [
    "south_america_project_ids = active_south_america_projects.ID.unique()"
   ]
  },
  {
   "cell_type": "code",
   "execution_count": 28,
   "id": "a5bd54ba",
   "metadata": {
    "scrolled": true
   },
   "outputs": [
    {
     "name": "stdout",
     "output_type": "stream",
     "text": [
      "Not working for 1067_Area_del_proyecto_TAMBOPATA.kml\n",
      "Not working for 1218_Ubicaci??n_Area_del_proyecto.kml\n",
      "Not working for 1360_ID 1360.kml\n",
      "Not working for 2411_Mapa_ubicacion_predios_BDU_II KML.kml\n",
      "Not working for 796_VCS_KML_0796_22AUG2022.kml\n",
      "Not working for 818_KML_818_22MAR2012.kml\n",
      "Not working for 844_Project Area.kml\n"
     ]
    }
   ],
   "source": [
    "import geopandas as gpd\n",
    "import fiona\n",
    "fiona.drvsupport.supported_drivers['kml'] = 'rw' # enable KML support which is disabled by default\n",
    "fiona.drvsupport.supported_drivers['KML'] = 'rw' # enable KML support which is disabled by default\n",
    "\n",
    "not_work = []\n",
    "\n",
    "combined = gpd.GeoDataFrame()\n",
    "\n",
    "for file in os.listdir(os.path.join(datadir,'KML')):\n",
    "    ids = file.split('_')[0]\n",
    "    if np.isin(ids, south_america_project_ids) == True:\n",
    "        try:\n",
    "            df = gpd.read_file(os.path.join(datadir,'KML', file))\n",
    "            df['ID'] = ids\n",
    "            #df.geometry = df.geometry.buffer(0.1)\n",
    "            if len(combined) == 0:\n",
    "                combined = df\n",
    "            else:\n",
    "                combined = pd.concat([combined, df])\n",
    "        except:\n",
    "            print(f'Not working for {file}')\n",
    "            not_work.append(file)"
   ]
  },
  {
   "cell_type": "code",
   "execution_count": 29,
   "id": "d4c76edf",
   "metadata": {
    "scrolled": true
   },
   "outputs": [
    {
     "data": {
      "text/plain": [
       "Index(['Name', 'Description', 'geometry', 'ID'], dtype='object')"
      ]
     },
     "execution_count": 29,
     "metadata": {},
     "output_type": "execute_result"
    }
   ],
   "source": [
    "combined.columns"
   ]
  },
  {
   "cell_type": "code",
   "execution_count": 30,
   "id": "776a6547",
   "metadata": {},
   "outputs": [],
   "source": [
    "combined = combined.drop(columns={'Name', 'Description'})"
   ]
  },
  {
   "cell_type": "code",
   "execution_count": 31,
   "id": "73e591e7",
   "metadata": {},
   "outputs": [
    {
     "data": {
      "text/plain": [
       "<AxesSubplot: >"
      ]
     },
     "execution_count": 31,
     "metadata": {},
     "output_type": "execute_result"
    },
    {
     "data": {
      "image/png": "[encoded data removed]",
      "text/plain": [
       "<Figure size 432x288 with 1 Axes>"
      ]
     },
     "metadata": {
      "needs_background": "light"
     },
     "output_type": "display_data"
    }
   ],
   "source": [
    "combined.plot()"
   ]
  },
  {
   "cell_type": "code",
   "execution_count": 43,
   "id": "60fcfb0d",
   "metadata": {},
   "outputs": [
    {
     "name": "stderr",
     "output_type": "stream",
     "text": [
      "/home/c4ubuntu/anaconda3/lib/python3.9/site-packages/geopandas/io/file.py:545: UserWarning: You are attempting to write an empty DataFrame to file. For some drivers, this operation may fail.\n",
      "  _to_file_fiona(df, filename, driver, schema, crs, mode, **kwargs)\n"
     ]
    }
   ],
   "source": [
    "# Create a GeoDataFrame for Point geometries\n",
    "points_gdf = combined[combined['geometry'].type == 'Point']\n",
    "\n",
    "# Save the Point GeoDataFrame to a separate shapefile\n",
    "points_gdf.to_file(os.path.join(datadir, 'SHP', 'point_geometries.shp'))\n",
    "\n",
    "# Filter out Point geometries from the original GeoDataFrame\n",
    "combined = combined[combined['geometry'].type != 'Point']\n",
    "\n",
    "# Save the modified GeoDataFrame (without Points) to a shapefile\n",
    "combined.to_file(os.path.join(datadir, 'SHP', 'SouthAmerica_projects.geojson'))"
   ]
  },
  {
   "cell_type": "markdown",
   "id": "894fe38c",
   "metadata": {},
   "source": [
    "\n",
    "### Export to disk"
   ]
  },
  {
   "cell_type": "code",
   "execution_count": 19,
   "id": "fda0d00a",
   "metadata": {},
   "outputs": [
    {
     "name": "stderr",
     "output_type": "stream",
     "text": [
      "/tmp/ipykernel_13702/324471024.py:4: ShapelyDeprecationWarning: The 'type' attribute is deprecated, and will be removed in the future. You can use the 'geom_type' attribute instead.\n",
      "  combined['geometry'] = combined['geometry'].apply(lambda geom: geom.buffer(0.001) if geom.type == 'Point' else geom)\n",
      "/tmp/ipykernel_13702/324471024.py:6: ShapelyDeprecationWarning: The 'type' attribute is deprecated, and will be removed in the future. You can use the 'geom_type' attribute instead.\n",
      "  combined['geometry'] = combined['geometry'].apply(lambda geom: Polygon(geom) if geom.type == 'LineString' else geom)\n",
      "/tmp/ipykernel_13702/324471024.py:6: ShapelyDeprecationWarning: The 'type' attribute is deprecated, and will be removed in the future. You can use the 'geom_type' attribute instead.\n",
      "  combined['geometry'] = combined['geometry'].apply(lambda geom: Polygon(geom) if geom.type == 'LineString' else geom)\n",
      "/tmp/ipykernel_13702/324471024.py:6: ShapelyDeprecationWarning: The 'type' attribute is deprecated, and will be removed in the future. You can use the 'geom_type' attribute instead.\n",
      "  combined['geometry'] = combined['geometry'].apply(lambda geom: Polygon(geom) if geom.type == 'LineString' else geom)\n",
      "/tmp/ipykernel_13702/324471024.py:6: ShapelyDeprecationWarning: The 'type' attribute is deprecated, and will be removed in the future. You can use the 'geom_type' attribute instead.\n",
      "  combined['geometry'] = combined['geometry'].apply(lambda geom: Polygon(geom) if geom.type == 'LineString' else geom)\n",
      "/tmp/ipykernel_13702/324471024.py:6: ShapelyDeprecationWarning: The 'type' attribute is deprecated, and will be removed in the future. You can use the 'geom_type' attribute instead.\n",
      "  combined['geometry'] = combined['geometry'].apply(lambda geom: Polygon(geom) if geom.type == 'LineString' else geom)\n",
      "/tmp/ipykernel_13702/324471024.py:6: ShapelyDeprecationWarning: The 'type' attribute is deprecated, and will be removed in the future. You can use the 'geom_type' attribute instead.\n",
      "  combined['geometry'] = combined['geometry'].apply(lambda geom: Polygon(geom) if geom.type == 'LineString' else geom)\n",
      "/tmp/ipykernel_13702/324471024.py:6: ShapelyDeprecationWarning: The 'type' attribute is deprecated, and will be removed in the future. You can use the 'geom_type' attribute instead.\n",
      "  combined['geometry'] = combined['geometry'].apply(lambda geom: Polygon(geom) if geom.type == 'LineString' else geom)\n",
      "/tmp/ipykernel_13702/324471024.py:6: ShapelyDeprecationWarning: The 'type' attribute is deprecated, and will be removed in the future. You can use the 'geom_type' attribute instead.\n",
      "  combined['geometry'] = combined['geometry'].apply(lambda geom: Polygon(geom) if geom.type == 'LineString' else geom)\n",
      "/tmp/ipykernel_13702/324471024.py:6: ShapelyDeprecationWarning: The 'type' attribute is deprecated, and will be removed in the future. You can use the 'geom_type' attribute instead.\n",
      "  combined['geometry'] = combined['geometry'].apply(lambda geom: Polygon(geom) if geom.type == 'LineString' else geom)\n",
      "/tmp/ipykernel_13702/324471024.py:6: ShapelyDeprecationWarning: The 'type' attribute is deprecated, and will be removed in the future. You can use the 'geom_type' attribute instead.\n",
      "  combined['geometry'] = combined['geometry'].apply(lambda geom: Polygon(geom) if geom.type == 'LineString' else geom)\n",
      "/tmp/ipykernel_13702/324471024.py:6: ShapelyDeprecationWarning: The 'type' attribute is deprecated, and will be removed in the future. You can use the 'geom_type' attribute instead.\n",
      "  combined['geometry'] = combined['geometry'].apply(lambda geom: Polygon(geom) if geom.type == 'LineString' else geom)\n",
      "/tmp/ipykernel_13702/324471024.py:6: ShapelyDeprecationWarning: The 'type' attribute is deprecated, and will be removed in the future. You can use the 'geom_type' attribute instead.\n",
      "  combined['geometry'] = combined['geometry'].apply(lambda geom: Polygon(geom) if geom.type == 'LineString' else geom)\n",
      "/tmp/ipykernel_13702/324471024.py:6: ShapelyDeprecationWarning: The 'type' attribute is deprecated, and will be removed in the future. You can use the 'geom_type' attribute instead.\n",
      "  combined['geometry'] = combined['geometry'].apply(lambda geom: Polygon(geom) if geom.type == 'LineString' else geom)\n",
      "/tmp/ipykernel_13702/324471024.py:6: ShapelyDeprecationWarning: The 'type' attribute is deprecated, and will be removed in the future. You can use the 'geom_type' attribute instead.\n",
      "  combined['geometry'] = combined['geometry'].apply(lambda geom: Polygon(geom) if geom.type == 'LineString' else geom)\n",
      "/tmp/ipykernel_13702/324471024.py:6: ShapelyDeprecationWarning: The 'type' attribute is deprecated, and will be removed in the future. You can use the 'geom_type' attribute instead.\n",
      "  combined['geometry'] = combined['geometry'].apply(lambda geom: Polygon(geom) if geom.type == 'LineString' else geom)\n",
      "/tmp/ipykernel_13702/324471024.py:6: ShapelyDeprecationWarning: The 'type' attribute is deprecated, and will be removed in the future. You can use the 'geom_type' attribute instead.\n",
      "  combined['geometry'] = combined['geometry'].apply(lambda geom: Polygon(geom) if geom.type == 'LineString' else geom)\n",
      "/tmp/ipykernel_13702/324471024.py:6: ShapelyDeprecationWarning: The 'type' attribute is deprecated, and will be removed in the future. You can use the 'geom_type' attribute instead.\n",
      "  combined['geometry'] = combined['geometry'].apply(lambda geom: Polygon(geom) if geom.type == 'LineString' else geom)\n",
      "/tmp/ipykernel_13702/324471024.py:6: ShapelyDeprecationWarning: The 'type' attribute is deprecated, and will be removed in the future. You can use the 'geom_type' attribute instead.\n",
      "  combined['geometry'] = combined['geometry'].apply(lambda geom: Polygon(geom) if geom.type == 'LineString' else geom)\n",
      "/tmp/ipykernel_13702/324471024.py:6: ShapelyDeprecationWarning: The 'type' attribute is deprecated, and will be removed in the future. You can use the 'geom_type' attribute instead.\n",
      "  combined['geometry'] = combined['geometry'].apply(lambda geom: Polygon(geom) if geom.type == 'LineString' else geom)\n",
      "/tmp/ipykernel_13702/324471024.py:6: ShapelyDeprecationWarning: The 'type' attribute is deprecated, and will be removed in the future. You can use the 'geom_type' attribute instead.\n",
      "  combined['geometry'] = combined['geometry'].apply(lambda geom: Polygon(geom) if geom.type == 'LineString' else geom)\n",
      "/tmp/ipykernel_13702/324471024.py:6: ShapelyDeprecationWarning: The 'type' attribute is deprecated, and will be removed in the future. You can use the 'geom_type' attribute instead.\n",
      "  combined['geometry'] = combined['geometry'].apply(lambda geom: Polygon(geom) if geom.type == 'LineString' else geom)\n",
      "/tmp/ipykernel_13702/324471024.py:6: ShapelyDeprecationWarning: The 'type' attribute is deprecated, and will be removed in the future. You can use the 'geom_type' attribute instead.\n",
      "  combined['geometry'] = combined['geometry'].apply(lambda geom: Polygon(geom) if geom.type == 'LineString' else geom)\n"
     ]
    },
    {
     "ename": "ValueError",
     "evalue": "A linearring requires at least 4 coordinates.",
     "output_type": "error",
     "traceback": [
      "\u001b[0;31m---------------------------------------------------------------------------\u001b[0m",
      "\u001b[0;31mValueError\u001b[0m                                Traceback (most recent call last)",
      "Input \u001b[0;32mIn [19]\u001b[0m, in \u001b[0;36m<cell line: 6>\u001b[0;34m()\u001b[0m\n\u001b[1;32m      4\u001b[0m combined[\u001b[38;5;124m'\u001b[39m\u001b[38;5;124mgeometry\u001b[39m\u001b[38;5;124m'\u001b[39m] \u001b[38;5;241m=\u001b[39m combined[\u001b[38;5;124m'\u001b[39m\u001b[38;5;124mgeometry\u001b[39m\u001b[38;5;124m'\u001b[39m]\u001b[38;5;241m.\u001b[39mapply(\u001b[38;5;28;01mlambda\u001b[39;00m geom: geom\u001b[38;5;241m.\u001b[39mbuffer(\u001b[38;5;241m0.001\u001b[39m) \u001b[38;5;28;01mif\u001b[39;00m geom\u001b[38;5;241m.\u001b[39mtype \u001b[38;5;241m==\u001b[39m \u001b[38;5;124m'\u001b[39m\u001b[38;5;124mPoint\u001b[39m\u001b[38;5;124m'\u001b[39m \u001b[38;5;28;01melse\u001b[39;00m geom)\n\u001b[1;32m      5\u001b[0m \u001b[38;5;66;03m# Convert LineString to Polygon\u001b[39;00m\n\u001b[0;32m----> 6\u001b[0m combined[\u001b[38;5;124m'\u001b[39m\u001b[38;5;124mgeometry\u001b[39m\u001b[38;5;124m'\u001b[39m] \u001b[38;5;241m=\u001b[39m \u001b[43mcombined\u001b[49m\u001b[43m[\u001b[49m\u001b[38;5;124;43m'\u001b[39;49m\u001b[38;5;124;43mgeometry\u001b[39;49m\u001b[38;5;124;43m'\u001b[39;49m\u001b[43m]\u001b[49m\u001b[38;5;241;43m.\u001b[39;49m\u001b[43mapply\u001b[49m\u001b[43m(\u001b[49m\u001b[38;5;28;43;01mlambda\u001b[39;49;00m\u001b[43m \u001b[49m\u001b[43mgeom\u001b[49m\u001b[43m:\u001b[49m\u001b[43m \u001b[49m\u001b[43mPolygon\u001b[49m\u001b[43m(\u001b[49m\u001b[43mgeom\u001b[49m\u001b[43m)\u001b[49m\u001b[43m \u001b[49m\u001b[38;5;28;43;01mif\u001b[39;49;00m\u001b[43m \u001b[49m\u001b[43mgeom\u001b[49m\u001b[38;5;241;43m.\u001b[39;49m\u001b[43mtype\u001b[49m\u001b[43m \u001b[49m\u001b[38;5;241;43m==\u001b[39;49m\u001b[43m \u001b[49m\u001b[38;5;124;43m'\u001b[39;49m\u001b[38;5;124;43mLineString\u001b[39;49m\u001b[38;5;124;43m'\u001b[39;49m\u001b[43m \u001b[49m\u001b[38;5;28;43;01melse\u001b[39;49;00m\u001b[43m \u001b[49m\u001b[43mgeom\u001b[49m\u001b[43m)\u001b[49m\n\u001b[1;32m      9\u001b[0m \u001b[38;5;66;03m# Save the modified GeoDataFrame to a shapefile\u001b[39;00m\n\u001b[1;32m     10\u001b[0m combined\u001b[38;5;241m.\u001b[39mto_file(os\u001b[38;5;241m.\u001b[39mpath\u001b[38;5;241m.\u001b[39mjoin(datadir, \u001b[38;5;124m'\u001b[39m\u001b[38;5;124mSHP\u001b[39m\u001b[38;5;124m'\u001b[39m, \u001b[38;5;124m'\u001b[39m\u001b[38;5;124msouth_america_projects.shp\u001b[39m\u001b[38;5;124m'\u001b[39m))\n",
      "File \u001b[0;32m~/anaconda3/lib/python3.9/site-packages/geopandas/geoseries.py:645\u001b[0m, in \u001b[0;36mGeoSeries.apply\u001b[0;34m(self, func, convert_dtype, args, **kwargs)\u001b[0m\n\u001b[1;32m    643\u001b[0m \u001b[38;5;129m@doc\u001b[39m(pd\u001b[38;5;241m.\u001b[39mSeries)\n\u001b[1;32m    644\u001b[0m \u001b[38;5;28;01mdef\u001b[39;00m \u001b[38;5;21mapply\u001b[39m(\u001b[38;5;28mself\u001b[39m, func, convert_dtype\u001b[38;5;241m=\u001b[39m\u001b[38;5;28;01mTrue\u001b[39;00m, args\u001b[38;5;241m=\u001b[39m(), \u001b[38;5;241m*\u001b[39m\u001b[38;5;241m*\u001b[39mkwargs):\n\u001b[0;32m--> 645\u001b[0m     result \u001b[38;5;241m=\u001b[39m \u001b[38;5;28;43msuper\u001b[39;49m\u001b[43m(\u001b[49m\u001b[43m)\u001b[49m\u001b[38;5;241;43m.\u001b[39;49m\u001b[43mapply\u001b[49m\u001b[43m(\u001b[49m\u001b[43mfunc\u001b[49m\u001b[43m,\u001b[49m\u001b[43m \u001b[49m\u001b[43mconvert_dtype\u001b[49m\u001b[38;5;241;43m=\u001b[39;49m\u001b[43mconvert_dtype\u001b[49m\u001b[43m,\u001b[49m\u001b[43m \u001b[49m\u001b[43margs\u001b[49m\u001b[38;5;241;43m=\u001b[39;49m\u001b[43margs\u001b[49m\u001b[43m,\u001b[49m\u001b[43m \u001b[49m\u001b[38;5;241;43m*\u001b[39;49m\u001b[38;5;241;43m*\u001b[39;49m\u001b[43mkwargs\u001b[49m\u001b[43m)\u001b[49m\n\u001b[1;32m    646\u001b[0m     \u001b[38;5;28;01mif\u001b[39;00m \u001b[38;5;28misinstance\u001b[39m(result, GeoSeries):\n\u001b[1;32m    647\u001b[0m         \u001b[38;5;28;01mif\u001b[39;00m \u001b[38;5;28mself\u001b[39m\u001b[38;5;241m.\u001b[39mcrs \u001b[38;5;129;01mis\u001b[39;00m \u001b[38;5;129;01mnot\u001b[39;00m \u001b[38;5;28;01mNone\u001b[39;00m:\n",
      "File \u001b[0;32m~/anaconda3/lib/python3.9/site-packages/pandas/core/series.py:4771\u001b[0m, in \u001b[0;36mSeries.apply\u001b[0;34m(self, func, convert_dtype, args, **kwargs)\u001b[0m\n\u001b[1;32m   4661\u001b[0m \u001b[38;5;28;01mdef\u001b[39;00m \u001b[38;5;21mapply\u001b[39m(\n\u001b[1;32m   4662\u001b[0m     \u001b[38;5;28mself\u001b[39m,\n\u001b[1;32m   4663\u001b[0m     func: AggFuncType,\n\u001b[0;32m   (...)\u001b[0m\n\u001b[1;32m   4666\u001b[0m     \u001b[38;5;241m*\u001b[39m\u001b[38;5;241m*\u001b[39mkwargs,\n\u001b[1;32m   4667\u001b[0m ) \u001b[38;5;241m-\u001b[39m\u001b[38;5;241m>\u001b[39m DataFrame \u001b[38;5;241m|\u001b[39m Series:\n\u001b[1;32m   4668\u001b[0m     \u001b[38;5;124;03m\"\"\"\u001b[39;00m\n\u001b[1;32m   4669\u001b[0m \u001b[38;5;124;03m    Invoke function on values of Series.\u001b[39;00m\n\u001b[1;32m   4670\u001b[0m \n\u001b[0;32m   (...)\u001b[0m\n\u001b[1;32m   4769\u001b[0m \u001b[38;5;124;03m    dtype: float64\u001b[39;00m\n\u001b[1;32m   4770\u001b[0m \u001b[38;5;124;03m    \"\"\"\u001b[39;00m\n\u001b[0;32m-> 4771\u001b[0m     \u001b[38;5;28;01mreturn\u001b[39;00m \u001b[43mSeriesApply\u001b[49m\u001b[43m(\u001b[49m\u001b[38;5;28;43mself\u001b[39;49m\u001b[43m,\u001b[49m\u001b[43m \u001b[49m\u001b[43mfunc\u001b[49m\u001b[43m,\u001b[49m\u001b[43m \u001b[49m\u001b[43mconvert_dtype\u001b[49m\u001b[43m,\u001b[49m\u001b[43m \u001b[49m\u001b[43margs\u001b[49m\u001b[43m,\u001b[49m\u001b[43m \u001b[49m\u001b[43mkwargs\u001b[49m\u001b[43m)\u001b[49m\u001b[38;5;241;43m.\u001b[39;49m\u001b[43mapply\u001b[49m\u001b[43m(\u001b[49m\u001b[43m)\u001b[49m\n",
      "File \u001b[0;32m~/anaconda3/lib/python3.9/site-packages/pandas/core/apply.py:1123\u001b[0m, in \u001b[0;36mSeriesApply.apply\u001b[0;34m(self)\u001b[0m\n\u001b[1;32m   1120\u001b[0m     \u001b[38;5;28;01mreturn\u001b[39;00m \u001b[38;5;28mself\u001b[39m\u001b[38;5;241m.\u001b[39mapply_str()\n\u001b[1;32m   1122\u001b[0m \u001b[38;5;66;03m# self.f is Callable\u001b[39;00m\n\u001b[0;32m-> 1123\u001b[0m \u001b[38;5;28;01mreturn\u001b[39;00m \u001b[38;5;28;43mself\u001b[39;49m\u001b[38;5;241;43m.\u001b[39;49m\u001b[43mapply_standard\u001b[49m\u001b[43m(\u001b[49m\u001b[43m)\u001b[49m\n",
      "File \u001b[0;32m~/anaconda3/lib/python3.9/site-packages/pandas/core/apply.py:1174\u001b[0m, in \u001b[0;36mSeriesApply.apply_standard\u001b[0;34m(self)\u001b[0m\n\u001b[1;32m   1172\u001b[0m     \u001b[38;5;28;01melse\u001b[39;00m:\n\u001b[1;32m   1173\u001b[0m         values \u001b[38;5;241m=\u001b[39m obj\u001b[38;5;241m.\u001b[39mastype(\u001b[38;5;28mobject\u001b[39m)\u001b[38;5;241m.\u001b[39m_values\n\u001b[0;32m-> 1174\u001b[0m         mapped \u001b[38;5;241m=\u001b[39m \u001b[43mlib\u001b[49m\u001b[38;5;241;43m.\u001b[39;49m\u001b[43mmap_infer\u001b[49m\u001b[43m(\u001b[49m\n\u001b[1;32m   1175\u001b[0m \u001b[43m            \u001b[49m\u001b[43mvalues\u001b[49m\u001b[43m,\u001b[49m\n\u001b[1;32m   1176\u001b[0m \u001b[43m            \u001b[49m\u001b[43mf\u001b[49m\u001b[43m,\u001b[49m\n\u001b[1;32m   1177\u001b[0m \u001b[43m            \u001b[49m\u001b[43mconvert\u001b[49m\u001b[38;5;241;43m=\u001b[39;49m\u001b[38;5;28;43mself\u001b[39;49m\u001b[38;5;241;43m.\u001b[39;49m\u001b[43mconvert_dtype\u001b[49m\u001b[43m,\u001b[49m\n\u001b[1;32m   1178\u001b[0m \u001b[43m        \u001b[49m\u001b[43m)\u001b[49m\n\u001b[1;32m   1180\u001b[0m \u001b[38;5;28;01mif\u001b[39;00m \u001b[38;5;28mlen\u001b[39m(mapped) \u001b[38;5;129;01mand\u001b[39;00m \u001b[38;5;28misinstance\u001b[39m(mapped[\u001b[38;5;241m0\u001b[39m], ABCSeries):\n\u001b[1;32m   1181\u001b[0m     \u001b[38;5;66;03m# GH#43986 Need to do list(mapped) in order to get treated as nested\u001b[39;00m\n\u001b[1;32m   1182\u001b[0m     \u001b[38;5;66;03m#  See also GH#25959 regarding EA support\u001b[39;00m\n\u001b[1;32m   1183\u001b[0m     \u001b[38;5;28;01mreturn\u001b[39;00m obj\u001b[38;5;241m.\u001b[39m_constructor_expanddim(\u001b[38;5;28mlist\u001b[39m(mapped), index\u001b[38;5;241m=\u001b[39mobj\u001b[38;5;241m.\u001b[39mindex)\n",
      "File \u001b[0;32m~/anaconda3/lib/python3.9/site-packages/pandas/_libs/lib.pyx:2924\u001b[0m, in \u001b[0;36mpandas._libs.lib.map_infer\u001b[0;34m()\u001b[0m\n",
      "Input \u001b[0;32mIn [19]\u001b[0m, in \u001b[0;36m<lambda>\u001b[0;34m(geom)\u001b[0m\n\u001b[1;32m      4\u001b[0m combined[\u001b[38;5;124m'\u001b[39m\u001b[38;5;124mgeometry\u001b[39m\u001b[38;5;124m'\u001b[39m] \u001b[38;5;241m=\u001b[39m combined[\u001b[38;5;124m'\u001b[39m\u001b[38;5;124mgeometry\u001b[39m\u001b[38;5;124m'\u001b[39m]\u001b[38;5;241m.\u001b[39mapply(\u001b[38;5;28;01mlambda\u001b[39;00m geom: geom\u001b[38;5;241m.\u001b[39mbuffer(\u001b[38;5;241m0.001\u001b[39m) \u001b[38;5;28;01mif\u001b[39;00m geom\u001b[38;5;241m.\u001b[39mtype \u001b[38;5;241m==\u001b[39m \u001b[38;5;124m'\u001b[39m\u001b[38;5;124mPoint\u001b[39m\u001b[38;5;124m'\u001b[39m \u001b[38;5;28;01melse\u001b[39;00m geom)\n\u001b[1;32m      5\u001b[0m \u001b[38;5;66;03m# Convert LineString to Polygon\u001b[39;00m\n\u001b[0;32m----> 6\u001b[0m combined[\u001b[38;5;124m'\u001b[39m\u001b[38;5;124mgeometry\u001b[39m\u001b[38;5;124m'\u001b[39m] \u001b[38;5;241m=\u001b[39m combined[\u001b[38;5;124m'\u001b[39m\u001b[38;5;124mgeometry\u001b[39m\u001b[38;5;124m'\u001b[39m]\u001b[38;5;241m.\u001b[39mapply(\u001b[38;5;28;01mlambda\u001b[39;00m geom: \u001b[43mPolygon\u001b[49m\u001b[43m(\u001b[49m\u001b[43mgeom\u001b[49m\u001b[43m)\u001b[49m \u001b[38;5;28;01mif\u001b[39;00m geom\u001b[38;5;241m.\u001b[39mtype \u001b[38;5;241m==\u001b[39m \u001b[38;5;124m'\u001b[39m\u001b[38;5;124mLineString\u001b[39m\u001b[38;5;124m'\u001b[39m \u001b[38;5;28;01melse\u001b[39;00m geom)\n\u001b[1;32m      9\u001b[0m \u001b[38;5;66;03m# Save the modified GeoDataFrame to a shapefile\u001b[39;00m\n\u001b[1;32m     10\u001b[0m combined\u001b[38;5;241m.\u001b[39mto_file(os\u001b[38;5;241m.\u001b[39mpath\u001b[38;5;241m.\u001b[39mjoin(datadir, \u001b[38;5;124m'\u001b[39m\u001b[38;5;124mSHP\u001b[39m\u001b[38;5;124m'\u001b[39m, \u001b[38;5;124m'\u001b[39m\u001b[38;5;124msouth_america_projects.shp\u001b[39m\u001b[38;5;124m'\u001b[39m))\n",
      "File \u001b[0;32m~/anaconda3/lib/python3.9/site-packages/shapely/geometry/polygon.py:230\u001b[0m, in \u001b[0;36mPolygon.__new__\u001b[0;34m(self, shell, holes)\u001b[0m\n\u001b[1;32m    228\u001b[0m     \u001b[38;5;28;01mreturn\u001b[39;00m shell\n\u001b[1;32m    229\u001b[0m \u001b[38;5;28;01melse\u001b[39;00m:\n\u001b[0;32m--> 230\u001b[0m     shell \u001b[38;5;241m=\u001b[39m \u001b[43mLinearRing\u001b[49m\u001b[43m(\u001b[49m\u001b[43mshell\u001b[49m\u001b[43m)\u001b[49m\n\u001b[1;32m    232\u001b[0m \u001b[38;5;28;01mif\u001b[39;00m holes \u001b[38;5;129;01mis\u001b[39;00m \u001b[38;5;129;01mnot\u001b[39;00m \u001b[38;5;28;01mNone\u001b[39;00m:\n\u001b[1;32m    233\u001b[0m     \u001b[38;5;28;01mif\u001b[39;00m \u001b[38;5;28mlen\u001b[39m(holes) \u001b[38;5;241m==\u001b[39m \u001b[38;5;241m0\u001b[39m:\n\u001b[1;32m    234\u001b[0m         \u001b[38;5;66;03m# shapely constructor cannot handle holes=[]\u001b[39;00m\n",
      "File \u001b[0;32m~/anaconda3/lib/python3.9/site-packages/shapely/geometry/polygon.py:104\u001b[0m, in \u001b[0;36mLinearRing.__new__\u001b[0;34m(self, coordinates)\u001b[0m\n\u001b[1;32m     99\u001b[0m \u001b[38;5;28;01mif\u001b[39;00m \u001b[38;5;28mlen\u001b[39m(coordinates) \u001b[38;5;241m==\u001b[39m \u001b[38;5;241m0\u001b[39m:\n\u001b[1;32m    100\u001b[0m     \u001b[38;5;66;03m# empty geometry\u001b[39;00m\n\u001b[1;32m    101\u001b[0m     \u001b[38;5;66;03m# TODO better constructor + should shapely.linearrings handle this?\u001b[39;00m\n\u001b[1;32m    102\u001b[0m     \u001b[38;5;28;01mreturn\u001b[39;00m shapely\u001b[38;5;241m.\u001b[39mfrom_wkt(\u001b[38;5;124m\"\u001b[39m\u001b[38;5;124mLINEARRING EMPTY\u001b[39m\u001b[38;5;124m\"\u001b[39m)\n\u001b[0;32m--> 104\u001b[0m geom \u001b[38;5;241m=\u001b[39m \u001b[43mshapely\u001b[49m\u001b[38;5;241;43m.\u001b[39;49m\u001b[43mlinearrings\u001b[49m\u001b[43m(\u001b[49m\u001b[43mcoordinates\u001b[49m\u001b[43m)\u001b[49m\n\u001b[1;32m    105\u001b[0m \u001b[38;5;28;01mif\u001b[39;00m \u001b[38;5;129;01mnot\u001b[39;00m \u001b[38;5;28misinstance\u001b[39m(geom, LinearRing):\n\u001b[1;32m    106\u001b[0m     \u001b[38;5;28;01mraise\u001b[39;00m \u001b[38;5;167;01mValueError\u001b[39;00m(\u001b[38;5;124m\"\u001b[39m\u001b[38;5;124mInvalid values passed to LinearRing constructor\u001b[39m\u001b[38;5;124m\"\u001b[39m)\n",
      "File \u001b[0;32m~/anaconda3/lib/python3.9/site-packages/shapely/decorators.py:77\u001b[0m, in \u001b[0;36mmultithreading_enabled.<locals>.wrapped\u001b[0;34m(*args, **kwargs)\u001b[0m\n\u001b[1;32m     75\u001b[0m     \u001b[38;5;28;01mfor\u001b[39;00m arr \u001b[38;5;129;01min\u001b[39;00m array_args:\n\u001b[1;32m     76\u001b[0m         arr\u001b[38;5;241m.\u001b[39mflags\u001b[38;5;241m.\u001b[39mwriteable \u001b[38;5;241m=\u001b[39m \u001b[38;5;28;01mFalse\u001b[39;00m\n\u001b[0;32m---> 77\u001b[0m     \u001b[38;5;28;01mreturn\u001b[39;00m \u001b[43mfunc\u001b[49m\u001b[43m(\u001b[49m\u001b[38;5;241;43m*\u001b[39;49m\u001b[43margs\u001b[49m\u001b[43m,\u001b[49m\u001b[43m \u001b[49m\u001b[38;5;241;43m*\u001b[39;49m\u001b[38;5;241;43m*\u001b[39;49m\u001b[43mkwargs\u001b[49m\u001b[43m)\u001b[49m\n\u001b[1;32m     78\u001b[0m \u001b[38;5;28;01mfinally\u001b[39;00m:\n\u001b[1;32m     79\u001b[0m     \u001b[38;5;28;01mfor\u001b[39;00m arr, old_flag \u001b[38;5;129;01min\u001b[39;00m \u001b[38;5;28mzip\u001b[39m(array_args, old_flags):\n",
      "File \u001b[0;32m~/anaconda3/lib/python3.9/site-packages/shapely/creation.py:173\u001b[0m, in \u001b[0;36mlinearrings\u001b[0;34m(coords, y, z, indices, out, **kwargs)\u001b[0m\n\u001b[1;32m    171\u001b[0m coords \u001b[38;5;241m=\u001b[39m _xyz_to_coords(coords, y, z)\n\u001b[1;32m    172\u001b[0m \u001b[38;5;28;01mif\u001b[39;00m indices \u001b[38;5;129;01mis\u001b[39;00m \u001b[38;5;28;01mNone\u001b[39;00m:\n\u001b[0;32m--> 173\u001b[0m     \u001b[38;5;28;01mreturn\u001b[39;00m \u001b[43mlib\u001b[49m\u001b[38;5;241;43m.\u001b[39;49m\u001b[43mlinearrings\u001b[49m\u001b[43m(\u001b[49m\u001b[43mcoords\u001b[49m\u001b[43m,\u001b[49m\u001b[43m \u001b[49m\u001b[43mout\u001b[49m\u001b[38;5;241;43m=\u001b[39;49m\u001b[43mout\u001b[49m\u001b[43m,\u001b[49m\u001b[43m \u001b[49m\u001b[38;5;241;43m*\u001b[39;49m\u001b[38;5;241;43m*\u001b[39;49m\u001b[43mkwargs\u001b[49m\u001b[43m)\u001b[49m\n\u001b[1;32m    174\u001b[0m \u001b[38;5;28;01melse\u001b[39;00m:\n\u001b[1;32m    175\u001b[0m     \u001b[38;5;28;01mreturn\u001b[39;00m simple_geometries_1d(coords, indices, GeometryType\u001b[38;5;241m.\u001b[39mLINEARRING, out\u001b[38;5;241m=\u001b[39mout)\n",
      "\u001b[0;31mValueError\u001b[0m: A linearring requires at least 4 coordinates."
     ]
    }
   ],
   "source": [
    "from shapely.geometry import Point, Polygon, LineString\n",
    "\n",
    "# Convert points to polygons by buffering\n",
    "combined['geometry'] = combined['geometry'].apply(lambda geom: geom.buffer(0.001) if geom.type == 'Point' else geom)\n",
    "# Convert LineString to Polygon\n",
    "combined['geometry'] = combined['geometry'].apply(lambda geom: Polygon(geom) if geom.type == 'LineString' else geom)\n",
    "\n",
    "\n",
    "# Save the modified GeoDataFrame to a shapefile\n",
    "combined.to_file(os.path.join(datadir, 'SHP', 'south_america_projects.shp'))"
   ]
  },
  {
   "cell_type": "markdown",
   "id": "118bd189",
   "metadata": {},
   "source": [
    "# Database"
   ]
  },
  {
   "cell_type": "code",
   "execution_count": 32,
   "id": "dbb1ef54",
   "metadata": {},
   "outputs": [],
   "source": [
    "methodologies = pd.read_csv(Path(datadir, 'CSV','VCS_Methodology_Dataset_Basic.csv'), sep=';')\n",
    "methodologies = methodologies[['VCS_Code', 'Name_Long', 'Status', 'Active_Start', 'Activity_type',\n",
    "       'Eligible_Area', 'Applicable', 'Not_Applicable']]"
   ]
  },
  {
   "cell_type": "markdown",
   "id": "d0bb6f68",
   "metadata": {},
   "source": [
    "## Add criteria information"
   ]
  },
  {
   "cell_type": "code",
   "execution_count": 45,
   "id": "f1aaadc9",
   "metadata": {},
   "outputs": [],
   "source": [
    "import pandas as pd\n",
    "\n",
    "data = {\n",
    "    'VCS_Code': ['VM0042','VM0042','VM0042',\n",
    "                 'VM0042','VM0042','VM0042',\n",
    "                 'VM0042','VM0042'],\n",
    "    'Activity_type': ['ALM', 'ALM', 'ALM', \n",
    "                      'ALM','ALM', 'ALM', \n",
    "                      'ALM', 'ALM'],\n",
    "    'Criterion_Type': ['Eligibility', 'Eligibility', \n",
    "                       'Eligibility', 'Eligibility', \n",
    "                       'Ineligibility', 'Ineligibility',\n",
    "                       'Ineligibility', 'Ineligibility'],\n",
    "    'Criterion': [\n",
    "        'Introduction or implementation of one or more new changes to pre-existing ALM practices.',\n",
    "        'Projects that introduce or implement quantitative adjustments (e.g., decrease in fertilizer application rate) must exceed five percent of the pre-existing value, calculated as the average value over the historical look-back period.',\n",
    "        'Project activities must be implemented on land that is either cropland or grassland at the project start date. The land must remain cropland or grassland throughout the project crediting period except under certain scenarios.',\n",
    "        'Use of empirical or process-based models for estimation.',\n",
    "        'The project area has been cleared of native ecosystems within the 10-year period immediately prior to the project start date.',\n",
    "        'The project activity is expected to cause a sustained reduction in productivity of greater than 5 percent, as demonstrated by peer-reviewed and/or published studies on the activity in the region or a comparable region.',\n",
    "        'The project activity is biochar application. Biochar may be applied as a soil amendment in the project area provided that the total organic carbon content of the biochar applied is subtracted from the estimated SOC stock change in the project scenario at each verification event.',\n",
    "        'The project activities occur on a wetland; this condition does not exclude crops subject to artificial flooding where it is demonstrated that crop cultivation does not impact the hydrology of any nearby wetlands.'\n",
    "    ]\n",
    "}\n",
    "\n",
    "data_1 = {\n",
    "    'VCS_Code': ['VM0007', 'VM0007', 'VM0007',\n",
    "                 'VM0007', 'VM0007', 'VM0007'],\n",
    "    'Activity_type': ['REDD', 'REDD', 'REDD', 'REDD', 'REDD', 'REDD'],\n",
    "    'Criterion_Type': ['Eligibility', 'Eligibility', 'Eligibility', 'Eligibility', 'Ineligibility', 'Ineligibility'],\n",
    "    'Criterion': [\n",
    "        'Land in the project area has qualified as forest for at least the 10 years prior to the project start date.',\n",
    "        'Mangrove forests are excluded from any tree height requirement.',\n",
    "        'If land within the project area is peatland or tidal wetlands and emissions from the SOC pool are deemed significant, the relevant WRC modules must be applied alongside other relevant modules.',\n",
    "        'Baseline deforestation and forest degradation in the project area fall within one or more of the following categories: Unplanned deforestation, Planned deforestation/degradation, Degradation through extraction of wood for fuel.',\n",
    "        'Leakage avoidance activities must not include agricultural lands that are flooded to increase production (e.g., rice paddy).',\n",
    "        'Intensifying livestock production through the use of feed-lots and/or manure lagoons.'\n",
    "    ]\n",
    "}\n",
    "\n",
    "data_2 = {\n",
    "    'VCS_Code': ['VM0009','VM0009',\n",
    "                 'VM0009','VM0009',\n",
    "                 'VM0009','VM0009',\n",
    "                 'VM0009','VM0009',\n",
    "                 'VM0009','VM0009',\n",
    "                 'VM0009','VM0009',\n",
    "                 'VM0009','VM0009',\n",
    "                 'VM0009'],\n",
    "    'Activity_type': ['REDD','REDD',\n",
    "                      'REDD','REDD',\n",
    "                      'REDD','REDD',\n",
    "                      'REDD','REDD',\n",
    "                      'REDD','REDD',\n",
    "                      'REDD','REDD',\n",
    "                      'REDD','REDD',\n",
    "                     'REDD'],\n",
    "    'Criterion_Type': ['Eligibility','Eligibility','Eligibility','Eligibility','Eligibility','Eligibility',\n",
    "                       'Eligibility',\n",
    "                       'Eligibility','Eligibility','Eligibility','Eligibility','Eligibility','Eligibility',\n",
    "                       'Ineligibility', 'Ineligibility'],\n",
    "    'Criterion': [\n",
    "        # Elegibility\n",
    "        'The drivers and agents of conversion in the baseline scenario must be consistent with those described in section 6 of this methodology.',\n",
    "        'The end land use in the baseline scenario is non-forest.',\n",
    "        'The project activity must be APD or AUDD.',\n",
    "        'The land must have been in an unconverted state (forest) for at least 10 years prior to the project start date.',\n",
    "        \"For project accounting areas with an unplanned baseline type, a conversion threat must exist.\",\n",
    "        \"In the case of baseline type F-U1, at least 25% of the project area boundary must be within 120 meters of deforestation and at least 25% must be adjacent to the reference area.\",\n",
    "        \"In the case of baseline type F-U2, at least 25% of the project area boundary must be within 120 meters of deforestation.\",\n",
    "        \"The project accounting area must not contain peat soil.\",\n",
    "        \"A reference area can be delineated for each baseline type in the baseline scenario that meets the requirements of section 6.8.1.\",\n",
    "        \"Historic imagery of the reference area(s) must exist with sufficient coverage to meet the requirements of section 6.8.4.\",\n",
    "        \"Project activities are planned or implemented to mitigate ecosystem conversion by addressing the agents and drivers of conversion.\",\n",
    "        \"The project proponent must have access to the activity-shifting leakage area(s) and proxy area(s) for monitoring or must have access to monitoring data from these areas for every monitoring event.\",\n",
    "        \"If logging is included in the baseline scenario and a market leakage area is required, the project proponent must have access to monitoring data from the market leakage area.\",\n",
    "        # Ineligibility\n",
    "        \"If the project is located in a non-tropical ecosystem and SOC is a selected carbon pool with the default value from section 6.19.2, then the project is not applicable.\",\n",
    "        \"If livestock are being grazed within the project area in the project scenario and there is manure management taking place.\"    \n",
    "    ]\n",
    "}\n",
    "\n",
    "data_3 = {\n",
    "    'VCS_Code': ['ARR', 'ARR','ARR',\n",
    "                 'ARR','ARR', 'ARR'],\n",
    "    'Activity_type': ['ARR', 'ARR','ARR',\n",
    "                     'ARR','ARR', 'ARR'],\n",
    "    'Criterion_Type': ['Eligibility', 'Eligibility', 'Eligibility',\n",
    "                       'Ineligibility','Ineligibility', 'Ineligibility'],\n",
    "    'Criterion': [\n",
    "        #Elegibility\n",
    "        \"Includes direct activities such as manual planting, broadcast seeding.\",\n",
    "        \"Includes indirect activities that permit or facilitate natural regeneration, such as herbivory exclosures.\",\n",
    "        \"Species planted must be those likely to have occurred under historic natural conditions in the project area.\",\n",
    "        # Ineligibility\n",
    "        \"Project activities that take place on organic soils or wetlands and result in an intentional manipulation of the water table.\",\n",
    "        \"Project activities that involve manipulation of hydrology or otherwise affect hydrology on organic soils or wetlands.\",\n",
    "        \"Project activities that take place in tidal wetlands such as mangroves, salt marshes.\"\n",
    "    ]\n",
    "}\n",
    "\n",
    "data_list = [data, data_1, data_2, data_3]\n",
    "\n",
    "# Concatenate each data dictionary using a lambda function\n",
    "dftmp = pd.concat([pd.DataFrame(data_dict) for data_dict in data_list], ignore_index=True)"
   ]
  },
  {
   "cell_type": "code",
   "execution_count": 47,
   "id": "6e81e7f3",
   "metadata": {},
   "outputs": [],
   "source": [
    "combined_methodologies = pd.merge(methodologies, dftmp, on=['VCS_Code', 'Activity_type'])"
   ]
  },
  {
   "cell_type": "code",
   "execution_count": 49,
   "id": "d83e1d50",
   "metadata": {
    "scrolled": false
   },
   "outputs": [
    {
     "data": {
      "text/plain": [
       "array(['VM0007', 'VM0009', 'VM0042', 'ARR'], dtype=object)"
      ]
     },
     "execution_count": 49,
     "metadata": {},
     "output_type": "execute_result"
    }
   ],
   "source": [
    "combined_methodologies.VCS_Code.unique()\n"
   ]
  },
  {
   "cell_type": "code",
   "execution_count": 50,
   "id": "59e99678",
   "metadata": {
    "scrolled": true
   },
   "outputs": [],
   "source": [
    "combined_methodologies.to_csv(Path(datadir, 'CSV','verra_methodologies_ver0_Descriptive.csv'))"
   ]
  },
  {
   "cell_type": "code",
   "execution_count": 51,
   "id": "33d80b93",
   "metadata": {},
   "outputs": [],
   "source": [
    "methodologies.to_csv(Path(datadir, 'CSV','verra_methodologies_ver0.csv'))"
   ]
  },
  {
   "cell_type": "markdown",
   "id": "cb7da16d",
   "metadata": {},
   "source": [
    "# Cropland"
   ]
  },
  {
   "cell_type": "code",
   "execution_count": 59,
   "id": "522992af",
   "metadata": {},
   "outputs": [],
   "source": [
    "from osgeo import gdal, gdal_array\n",
    "import numpy as np\n",
    "import xarray as xr\n",
    "import glob\n",
    "import rioxarray\n",
    "import rasterio\n",
    "from rasterio.windows import Window"
   ]
  },
  {
   "cell_type": "code",
   "execution_count": 23,
   "id": "c393f7fb",
   "metadata": {},
   "outputs": [],
   "source": [
    "aoi = gpd.read_file('../Data/SHP/Kenya selected wards.shp')"
   ]
  },
  {
   "cell_type": "code",
   "execution_count": 50,
   "id": "2806b512",
   "metadata": {},
   "outputs": [],
   "source": [
    "import rasterio\n",
    "\n",
    "def check_coverage(file, aoi, filename):\n",
    "    # Open the raster datasets\n",
    "    dataset1 = rasterio.open(file)\n",
    "\n",
    "    # Get the extent of the datasets\n",
    "    x_min1, y_min1, x_max1, y_max1 = dataset1.bounds\n",
    "\n",
    "    # Define your area of interest (AOI)\n",
    "    minx, miny, maxx, maxy = aoi.total_bounds\n",
    "\n",
    "    # Check if the datasets overlap the AOI\n",
    "    if x_max1 < minx or x_min1 > maxx or y_max1 < miny or y_min1 > maxy:\n",
    "        print(\"Dataset 1 does not overlap the AOI.\")\n",
    "    else:\n",
    "        print(\"Dataset 1 overlaps the AOI.\")\n",
    "        filename.append(file)\n",
    "    # Close the datasets\n",
    "    dataset1.close()\n",
    "    return filename"
   ]
  },
  {
   "cell_type": "code",
   "execution_count": 72,
   "id": "deea635c",
   "metadata": {},
   "outputs": [
    {
     "name": "stdout",
     "output_type": "stream",
     "text": [
      "Dataset 1 does not overlap the AOI.\n",
      "Dataset 1 does not overlap the AOI.\n",
      "Dataset 1 overlaps the AOI.\n",
      "Dataset 1 does not overlap the AOI.\n",
      "Dataset 1 overlaps the AOI.\n",
      "../Data/Raster/Cropland/Global_cropland_SE_2003.tif\n"
     ]
    },
    {
     "name": "stderr",
     "output_type": "stream",
     "text": [
      "ERROR 1: PROJ: proj_create_from_name: /home/c4ubuntu/anaconda3/share/proj/proj.db lacks DATABASE.LAYOUT.VERSION.MAJOR / DATABASE.LAYOUT.VERSION.MINOR metadata. It comes from another PROJ installation.\n"
     ]
    },
    {
     "name": "stdout",
     "output_type": "stream",
     "text": [
      "Dataset 1 does not overlap the AOI.\n",
      "Dataset 1 does not overlap the AOI.\n",
      "Dataset 1 overlaps the AOI.\n",
      "Dataset 1 does not overlap the AOI.\n",
      "Dataset 1 overlaps the AOI.\n",
      "../Data/Raster/Cropland/Global_cropland_SE_2019.tif\n"
     ]
    },
    {
     "name": "stderr",
     "output_type": "stream",
     "text": [
      "ERROR 1: PROJ: proj_create_from_name: /home/c4ubuntu/anaconda3/share/proj/proj.db lacks DATABASE.LAYOUT.VERSION.MAJOR / DATABASE.LAYOUT.VERSION.MINOR metadata. It comes from another PROJ installation.\n"
     ]
    }
   ],
   "source": [
    "for year in ['2003', '2019']:\n",
    "    filename = []\n",
    "    files = glob.glob(os.path.join(datadir, 'Raster','Cropland', f'*{year}.tif'))    \n",
    "    for file in files:\n",
    "        crop_file = check_coverage(file, aoi, filename)\n",
    "    print(crop_file[0])\n",
    "    # Open the raster dataset\n",
    "    dataset = rasterio.open(crop_file[0])\n",
    "\n",
    "    # Define your area of interest (AOI) coordinates\n",
    "    aoi_x_min, aoi_y_min, aoi_x_max, aoi_y_max = aoi.total_bounds\n",
    "\n",
    "    # Convert AOI coordinates to dataset pixel coordinates\n",
    "    window = dataset.window(aoi_x_min, aoi_y_min, aoi_x_max, aoi_y_max)\n",
    "    window_transform = rasterio.windows.transform(window, dataset.transform)\n",
    "\n",
    "    # Read the data within the AOI window\n",
    "    data = dataset.read(window=window)\n",
    "    \n",
    "    # Create the output raster file\n",
    "    output_profile = dataset.profile\n",
    "    output_profile.update(width=window.width, height=window.height, transform=window_transform)\n",
    "\n",
    "    with rasterio.open(os.path.join(datadir, 'Raster','Cropland', f'merged_cropland_{year}.tif'), 'w', **output_profile) as dst:\n",
    "        dst.write(data)\n",
    "\n",
    "    # Close the dataset\n",
    "    dataset.close()"
   ]
  },
  {
   "cell_type": "code",
   "execution_count": null,
   "id": "7d73980a",
   "metadata": {},
   "outputs": [],
   "source": []
  }
 ],
 "metadata": {
  "kernelspec": {
   "display_name": "Python 3 (ipykernel)",
   "language": "python",
   "name": "python3"
  },
  "language_info": {
   "codemirror_mode": {
    "name": "ipython",
    "version": 3
   },
   "file_extension": ".py",
   "mimetype": "text/x-python",
   "name": "python",
   "nbconvert_exporter": "python",
   "pygments_lexer": "ipython3",
   "version": "3.9.12"
  },
  "nbTranslate": {
   "displayLangs": [
    "*"
   ],
   "hotkey": "alt-t",
   "langInMainMenu": true,
   "sourceLang": "en",
   "targetLang": "fr",
   "useGoogleTranslate": true
  },
  "toc": {
   "base_numbering": 1,
   "nav_menu": {},
   "number_sections": true,
   "sideBar": true,
   "skip_h1_title": false,
   "title_cell": "Table of Contents",
   "title_sidebar": "Contents",
   "toc_cell": false,
   "toc_position": {},
   "toc_section_display": true,
   "toc_window_display": false
  }
 },
 "nbformat": 4,
 "nbformat_minor": 5
}
