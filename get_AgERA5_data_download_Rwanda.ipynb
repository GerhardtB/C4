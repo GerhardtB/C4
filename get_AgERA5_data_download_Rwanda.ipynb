{
 "cells": [
  {
   "cell_type": "code",
   "execution_count": 1,
   "metadata": {},
   "outputs": [
    {
     "name": "stderr",
     "output_type": "stream",
     "text": [
      "/home/c4ubuntu/anaconda3/lib/python3.9/site-packages/geopandas/_compat.py:123: UserWarning: The Shapely GEOS version (3.11.1-CAPI-1.17.1) is incompatible with the GEOS version PyGEOS was compiled with (3.10.4-CAPI-1.16.2). Conversions between both will be slow.\n",
      "  warnings.warn(\n",
      "/tmp/ipykernel_188791/3976756483.py:35: UserWarning: Shapely 2.0 is installed, but because PyGEOS is also installed, GeoPandas will still use PyGEOS by default for now. To force to use and test Shapely 2.0, you have to set the environment variable USE_PYGEOS=0. You can do this before starting the Python process, or in your code before importing geopandas:\n",
      "\n",
      "import os\n",
      "os.environ['USE_PYGEOS'] = '0'\n",
      "import geopandas\n",
      "\n",
      "In a future release, GeoPandas will switch to using Shapely by default. If you are using PyGEOS directly (calling PyGEOS functions on geometries from GeoPandas), this will then stop working and you are encouraged to migrate from PyGEOS to Shapely 2.0 (https://shapely.readthedocs.io/en/latest/migration_pygeos.html).\n",
      "  import geopandas as gpd\n"
     ]
    }
   ],
   "source": [
    "import cdsapi\n",
    "import zipfile\n",
    "import xarray as xr \n",
    "import rioxarray as rio \n",
    "import os\n",
    "from tqdm import tqdm\n",
    "import pandas as pd\n",
    "from datetime import datetime as dt\n",
    "import datetime\n",
    "import rasterio\n",
    "from rasterio.plot import show\n",
    "from tqdm import tqdm\n",
    "import numpy as np\n",
    "import schedule\n",
    "from netCDF4 import Dataset\n",
    "\n",
    "import netCDF4 as nc\n",
    "import os\n",
    "import pathlib as Path\n",
    "import xarray as xr\n",
    "import cdsapi\n",
    "import glob\n",
    "\n",
    "import pandas as pd\n",
    "from osgeo import gdal\n",
    "\n",
    "import netCDF4 as nc\n",
    "import os\n",
    "import pathlib as Path\n",
    "import xarray as xr\n",
    "import cdsapi\n",
    "\n",
    "import datetime as dt\n",
    "\n",
    "import geopandas as gpd"
   ]
  },
  {
   "cell_type": "markdown",
   "metadata": {},
   "source": [
    "# Download"
   ]
  },
  {
   "cell_type": "code",
   "execution_count": 2,
   "metadata": {},
   "outputs": [],
   "source": [
    "def download_AgERA5_month(selected_area, variables, query_date):\n",
    "\n",
    "    print(\"===== download_AgERA5_month =====\")\n",
    "\n",
    "    try:\n",
    "        query_year = query_date\n",
    "        #query_month = query_date.strftime('%m')\n",
    "\n",
    "        #print(\"Today is\",query_date.date(),\"; last available date on AgERA5 is\",query_date.date())\n",
    "\n",
    "        c = cdsapi.Client()\n",
    "\n",
    "        if not os.path.exists('0_downloads/'):\n",
    "            os.makedirs('0_downloads/')\n",
    "\n",
    "        for variable in variables :\n",
    "            \n",
    "            print(\"\\nDownloading values for variable\",variable,\"/\",query_year)\n",
    "\n",
    "            zip_path = '0_downloads/AgERA5_'+selected_area+'_'+variable[0]+'_'+variable[1]+\"_\"+str(query_year)+'.zip'\n",
    "\n",
    "            request = {\n",
    "                    'format': 'zip',\n",
    "                    'day': [\n",
    "                        '01', '02', '03',\n",
    "                        '04', '05', '06',\n",
    "                        '07', '08', '09',\n",
    "                        '10', '11', '12',\n",
    "                        '13', '14', '15',\n",
    "                        '16', '17', '18',\n",
    "                        '19', '20', '21',\n",
    "                        '22', '23', '24',\n",
    "                        '25', '26', '27',\n",
    "                        '28', '29', '30',\n",
    "                        '31',\n",
    "                    ],\n",
    "                    'month': [\n",
    "                '01', '02', '03',\n",
    "                '04', '05', '06',\n",
    "                '07', '08', '09',\n",
    "                '10', '11','12'\n",
    "                    ],\n",
    "                    'year': query_year,\n",
    "                    'variable': variable[0],\n",
    "                    'statistic': variable[1],\n",
    "                    'area': area[selected_area],\n",
    "                }\n",
    "\n",
    "            # la requête doit être adaptée pour cette variable\n",
    "            if variable[0] == \"solar_radiation_flux\" :\n",
    "                del request[\"statistic\"]\n",
    "\n",
    "            if variable[0] == \"precipitation_flux\" :\n",
    "                del request[\"statistic\"]\n",
    "                \n",
    "                \n",
    "            c.retrieve(\n",
    "                'sis-agrometeorological-indicators',\n",
    "                request,\n",
    "                zip_path)\n",
    "\n",
    "            print(\"Download OK\")\n",
    "\n",
    "    except :\n",
    "        print(\"/!\\ Download NOT OK\")"
   ]
  },
  {
   "cell_type": "markdown",
   "metadata": {},
   "source": [
    "# Extraction"
   ]
  },
  {
   "cell_type": "code",
   "execution_count": 3,
   "metadata": {},
   "outputs": [],
   "source": [
    "def extract_agERA5_month(selected_area, variables, query_date):\n",
    "\n",
    "    print(\"===== extract_agERA5_month =====\")\n",
    "\n",
    "    try:\n",
    "        query_year = query_date\n",
    "\n",
    "        for variable in tqdm(variables) :\n",
    "\n",
    "            zip_path = '0_downloads/AgERA5_'+selected_area+'_'+variable[0]+'_'+variable[1]+\"_\"+str(query_year)+'.zip'\n",
    "            extraction_path = '1_extraction/AgERA5_'+selected_area+'_'+variable[0]+'_'+variable[1]+\"_\"+str(query_year)+'/'\n",
    "\n",
    "            try:\n",
    "                with zipfile.ZipFile(zip_path, 'r') as zip_ref:\n",
    "                    zip_ref.extractall(extraction_path)\n",
    "            except:\n",
    "                pass\n",
    "            \n",
    "            aggregate_path = '2_aggregation/AgERA5_'+selected_area+'_'+variable[0]+'_'+variable[1]+\"_\"+str(query_year)+'/'\n",
    "            \n",
    "        print(\"Extraction OK\")\n",
    "        \n",
    "        \n",
    "\n",
    "    except :\n",
    "        print(\"/!\\ Extraction NOT OK\")"
   ]
  },
  {
   "cell_type": "markdown",
   "metadata": {},
   "source": [
    "# Site extraction"
   ]
  },
  {
   "cell_type": "code",
   "execution_count": 4,
   "metadata": {
    "scrolled": true
   },
   "outputs": [
    {
     "data": {
      "text/plain": [
       "['.ipynb_checkpoints',\n",
       " '0_downloads',\n",
       " '1_extraction',\n",
       " 'get_AgERA5_data_download_Rwanda.ipynb',\n",
       " 'RV_project_area_final.cpg',\n",
       " 'RV_project_area_final.dbf',\n",
       " 'RV_project_area_final.prj',\n",
       " 'RV_project_area_final.qmd',\n",
       " 'RV_project_area_final.shp',\n",
       " 'RV_project_area_final.shx']"
      ]
     },
     "execution_count": 4,
     "metadata": {},
     "output_type": "execute_result"
    }
   ],
   "source": [
    "os.listdir()"
   ]
  },
  {
   "cell_type": "code",
   "execution_count": 5,
   "metadata": {},
   "outputs": [],
   "source": [
    "aoi = gpd.read_file('RV_project_area_final.shp')"
   ]
  },
  {
   "cell_type": "markdown",
   "metadata": {},
   "source": [
    "# Run all"
   ]
  },
  {
   "cell_type": "code",
   "execution_count": 6,
   "metadata": {},
   "outputs": [],
   "source": [
    "first = pd.date_range(start='2020', end='2023', freq='YS')\n",
    "datelist = [i.strftime('%Y') for i in first]"
   ]
  },
  {
   "cell_type": "code",
   "execution_count": 7,
   "metadata": {},
   "outputs": [],
   "source": [
    "n, e, s, w =  aoi.total_bounds[-1], aoi.total_bounds[-2], aoi.total_bounds[1], aoi.total_bounds[2]"
   ]
  },
  {
   "cell_type": "code",
   "execution_count": 8,
   "metadata": {},
   "outputs": [
    {
     "data": {
      "text/plain": [
       "array([ 32.63280385, -18.79800503,  33.06717812, -17.50311559])"
      ]
     },
     "execution_count": 8,
     "metadata": {},
     "output_type": "execute_result"
    }
   ],
   "source": [
    "aoi.total_bounds"
   ]
  },
  {
   "cell_type": "code",
   "execution_count": 9,
   "metadata": {
    "scrolled": true
   },
   "outputs": [
    {
     "data": {
      "text/plain": [
       "'-17.5'"
      ]
     },
     "execution_count": 9,
     "metadata": {},
     "output_type": "execute_result"
    }
   ],
   "source": [
    "str(n.round(2))"
   ]
  },
  {
   "cell_type": "code",
   "execution_count": 10,
   "metadata": {},
   "outputs": [
    {
     "data": {
      "text/plain": [
       "(-17.503115589999936,\n",
       " 33.067178124000066,\n",
       " -18.79800503399997,\n",
       " 33.067178124000066)"
      ]
     },
     "execution_count": 10,
     "metadata": {},
     "output_type": "execute_result"
    }
   ],
   "source": [
    "n, e, s, w"
   ]
  },
  {
   "cell_type": "code",
   "execution_count": 11,
   "metadata": {
    "scrolled": true
   },
   "outputs": [
    {
     "name": "stdout",
     "output_type": "stream",
     "text": [
      "===== download_AgERA5_month =====\n",
      "\n",
      "Downloading values for variable ('2m_temperature', '24_hour_minimum') / 2020\n"
     ]
    },
    {
     "name": "stderr",
     "output_type": "stream",
     "text": [
      "/home/c4ubuntu/anaconda3/lib/python3.9/site-packages/urllib3/connectionpool.py:1043: InsecureRequestWarning: Unverified HTTPS request is being made to host 'cds.climate.copernicus.eu'. Adding certificate verification is strongly advised. See: https://urllib3.readthedocs.io/en/1.26.x/advanced-usage.html#ssl-warnings\n",
      "  warnings.warn(\n",
      "2023-08-30 06:31:58,998 INFO Welcome to the CDS\n",
      "2023-08-30 06:31:58,999 INFO Sending request to https://cds.climate.copernicus.eu/api/v2/resources/sis-agrometeorological-indicators\n",
      "/home/c4ubuntu/anaconda3/lib/python3.9/site-packages/urllib3/connectionpool.py:1043: InsecureRequestWarning: Unverified HTTPS request is being made to host 'cds.climate.copernicus.eu'. Adding certificate verification is strongly advised. See: https://urllib3.readthedocs.io/en/1.26.x/advanced-usage.html#ssl-warnings\n",
      "  warnings.warn(\n",
      "2023-08-30 06:31:59,210 INFO Request is completed\n",
      "2023-08-30 06:31:59,211 INFO Downloading https://download-0000-clone.copernicus-climate.eu/cache-compute-0000/cache/data1/dataset-sis-agrometeorological-indicators-674417dd-782a-4391-998f-5d577acd3898.zip to 0_downloads/AgERA5_Zimbabwe_2m_temperature_24_hour_minimum_2020.zip (8.3M)\n",
      "/home/c4ubuntu/anaconda3/lib/python3.9/site-packages/urllib3/connectionpool.py:1043: InsecureRequestWarning: Unverified HTTPS request is being made to host 'download-0000-clone.copernicus-climate.eu'. Adding certificate verification is strongly advised. See: https://urllib3.readthedocs.io/en/1.26.x/advanced-usage.html#ssl-warnings\n",
      "  warnings.warn(\n",
      "2023-08-30 06:32:03,167 INFO Download rate 2.1M/s                                                                                    \n",
      "/home/c4ubuntu/anaconda3/lib/python3.9/site-packages/urllib3/connectionpool.py:1043: InsecureRequestWarning: Unverified HTTPS request is being made to host 'cds.climate.copernicus.eu'. Adding certificate verification is strongly advised. See: https://urllib3.readthedocs.io/en/1.26.x/advanced-usage.html#ssl-warnings\n",
      "  warnings.warn(\n",
      "/home/c4ubuntu/anaconda3/lib/python3.9/site-packages/urllib3/connectionpool.py:1043: InsecureRequestWarning: Unverified HTTPS request is being made to host 'cds.climate.copernicus.eu'. Adding certificate verification is strongly advised. See: https://urllib3.readthedocs.io/en/1.26.x/advanced-usage.html#ssl-warnings\n",
      "  warnings.warn(\n",
      "2023-08-30 06:32:03,523 INFO Welcome to the CDS\n",
      "2023-08-30 06:32:03,524 INFO Sending request to https://cds.climate.copernicus.eu/api/v2/resources/sis-agrometeorological-indicators\n"
     ]
    },
    {
     "name": "stdout",
     "output_type": "stream",
     "text": [
      "Download OK\n",
      "\n",
      "Downloading values for variable ('2m_temperature', '24_hour_maximum') / 2020\n"
     ]
    },
    {
     "name": "stderr",
     "output_type": "stream",
     "text": [
      "/home/c4ubuntu/anaconda3/lib/python3.9/site-packages/urllib3/connectionpool.py:1043: InsecureRequestWarning: Unverified HTTPS request is being made to host 'cds.climate.copernicus.eu'. Adding certificate verification is strongly advised. See: https://urllib3.readthedocs.io/en/1.26.x/advanced-usage.html#ssl-warnings\n",
      "  warnings.warn(\n",
      "2023-08-30 06:32:03,784 INFO Downloading https://download-0009-clone.copernicus-climate.eu/cache-compute-0009/cache/data9/dataset-sis-agrometeorological-indicators-272761ca-6e9d-4a85-ba79-b06e9f560402.zip to 0_downloads/AgERA5_Zimbabwe_2m_temperature_24_hour_maximum_2020.zip (8.3M)\n",
      "/home/c4ubuntu/anaconda3/lib/python3.9/site-packages/urllib3/connectionpool.py:1043: InsecureRequestWarning: Unverified HTTPS request is being made to host 'download-0009-clone.copernicus-climate.eu'. Adding certificate verification is strongly advised. See: https://urllib3.readthedocs.io/en/1.26.x/advanced-usage.html#ssl-warnings\n",
      "  warnings.warn(\n",
      "2023-08-30 06:32:06,651 INFO Download rate 2.9M/s                                                                                    \n",
      "/home/c4ubuntu/anaconda3/lib/python3.9/site-packages/urllib3/connectionpool.py:1043: InsecureRequestWarning: Unverified HTTPS request is being made to host 'cds.climate.copernicus.eu'. Adding certificate verification is strongly advised. See: https://urllib3.readthedocs.io/en/1.26.x/advanced-usage.html#ssl-warnings\n",
      "  warnings.warn(\n",
      "/home/c4ubuntu/anaconda3/lib/python3.9/site-packages/urllib3/connectionpool.py:1043: InsecureRequestWarning: Unverified HTTPS request is being made to host 'cds.climate.copernicus.eu'. Adding certificate verification is strongly advised. See: https://urllib3.readthedocs.io/en/1.26.x/advanced-usage.html#ssl-warnings\n",
      "  warnings.warn(\n",
      "2023-08-30 06:32:07,042 INFO Welcome to the CDS\n",
      "2023-08-30 06:32:07,043 INFO Sending request to https://cds.climate.copernicus.eu/api/v2/resources/sis-agrometeorological-indicators\n"
     ]
    },
    {
     "name": "stdout",
     "output_type": "stream",
     "text": [
      "Download OK\n",
      "\n",
      "Downloading values for variable ('precipitation_flux', 'daily') / 2020\n"
     ]
    },
    {
     "name": "stderr",
     "output_type": "stream",
     "text": [
      "/home/c4ubuntu/anaconda3/lib/python3.9/site-packages/urllib3/connectionpool.py:1043: InsecureRequestWarning: Unverified HTTPS request is being made to host 'cds.climate.copernicus.eu'. Adding certificate verification is strongly advised. See: https://urllib3.readthedocs.io/en/1.26.x/advanced-usage.html#ssl-warnings\n",
      "  warnings.warn(\n",
      "2023-08-30 06:32:07,303 INFO Downloading https://download-0004-clone.copernicus-climate.eu/cache-compute-0004/cache/data0/dataset-sis-agrometeorological-indicators-6b758059-b312-4b18-8750-079b46e61a0c.zip to 0_downloads/AgERA5_Zimbabwe_precipitation_flux_daily_2020.zip (8.2M)\n",
      "/home/c4ubuntu/anaconda3/lib/python3.9/site-packages/urllib3/connectionpool.py:1043: InsecureRequestWarning: Unverified HTTPS request is being made to host 'download-0004-clone.copernicus-climate.eu'. Adding certificate verification is strongly advised. See: https://urllib3.readthedocs.io/en/1.26.x/advanced-usage.html#ssl-warnings\n",
      "  warnings.warn(\n",
      "2023-08-30 06:32:11,027 INFO Download rate 2.2M/s                                                                                    \n",
      "/home/c4ubuntu/anaconda3/lib/python3.9/site-packages/urllib3/connectionpool.py:1043: InsecureRequestWarning: Unverified HTTPS request is being made to host 'cds.climate.copernicus.eu'. Adding certificate verification is strongly advised. See: https://urllib3.readthedocs.io/en/1.26.x/advanced-usage.html#ssl-warnings\n",
      "  warnings.warn(\n"
     ]
    },
    {
     "name": "stdout",
     "output_type": "stream",
     "text": [
      "Download OK\n",
      "===== extract_agERA5_month =====\n"
     ]
    },
    {
     "name": "stderr",
     "output_type": "stream",
     "text": [
      "100%|██████████████████████████████████████████████████████████████████████████████████████████████████| 3/3 [01:53<00:00, 37.73s/it]\n"
     ]
    },
    {
     "name": "stdout",
     "output_type": "stream",
     "text": [
      "Extraction OK\n",
      "===== download_AgERA5_month =====\n",
      "\n",
      "Downloading values for variable ('2m_temperature', '24_hour_minimum') / 2021\n"
     ]
    },
    {
     "name": "stderr",
     "output_type": "stream",
     "text": [
      "/home/c4ubuntu/anaconda3/lib/python3.9/site-packages/urllib3/connectionpool.py:1043: InsecureRequestWarning: Unverified HTTPS request is being made to host 'cds.climate.copernicus.eu'. Adding certificate verification is strongly advised. See: https://urllib3.readthedocs.io/en/1.26.x/advanced-usage.html#ssl-warnings\n",
      "  warnings.warn(\n",
      "2023-08-30 06:34:05,097 INFO Welcome to the CDS\n",
      "2023-08-30 06:34:05,098 INFO Sending request to https://cds.climate.copernicus.eu/api/v2/resources/sis-agrometeorological-indicators\n",
      "/home/c4ubuntu/anaconda3/lib/python3.9/site-packages/urllib3/connectionpool.py:1043: InsecureRequestWarning: Unverified HTTPS request is being made to host 'cds.climate.copernicus.eu'. Adding certificate verification is strongly advised. See: https://urllib3.readthedocs.io/en/1.26.x/advanced-usage.html#ssl-warnings\n",
      "  warnings.warn(\n",
      "2023-08-30 06:34:05,338 INFO Request is completed\n",
      "2023-08-30 06:34:05,339 INFO Downloading https://download-0021.copernicus-climate.eu/cache-compute-0021/cache/data3/dataset-sis-agrometeorological-indicators-bced1588-933c-45ea-aa3e-8d30b3be1651.zip to 0_downloads/AgERA5_Zimbabwe_2m_temperature_24_hour_minimum_2021.zip (7.6M)\n",
      "/home/c4ubuntu/anaconda3/lib/python3.9/site-packages/urllib3/connectionpool.py:1043: InsecureRequestWarning: Unverified HTTPS request is being made to host 'download-0021.copernicus-climate.eu'. Adding certificate verification is strongly advised. See: https://urllib3.readthedocs.io/en/1.26.x/advanced-usage.html#ssl-warnings\n",
      "  warnings.warn(\n",
      "2023-08-30 06:34:08,110 INFO Download rate 2.8M/s                                                                                    \n",
      "/home/c4ubuntu/anaconda3/lib/python3.9/site-packages/urllib3/connectionpool.py:1043: InsecureRequestWarning: Unverified HTTPS request is being made to host 'cds.climate.copernicus.eu'. Adding certificate verification is strongly advised. See: https://urllib3.readthedocs.io/en/1.26.x/advanced-usage.html#ssl-warnings\n",
      "  warnings.warn(\n",
      "/home/c4ubuntu/anaconda3/lib/python3.9/site-packages/urllib3/connectionpool.py:1043: InsecureRequestWarning: Unverified HTTPS request is being made to host 'cds.climate.copernicus.eu'. Adding certificate verification is strongly advised. See: https://urllib3.readthedocs.io/en/1.26.x/advanced-usage.html#ssl-warnings\n",
      "  warnings.warn(\n",
      "2023-08-30 06:34:08,466 INFO Welcome to the CDS\n",
      "2023-08-30 06:34:08,467 INFO Sending request to https://cds.climate.copernicus.eu/api/v2/resources/sis-agrometeorological-indicators\n"
     ]
    },
    {
     "name": "stdout",
     "output_type": "stream",
     "text": [
      "Download OK\n",
      "\n",
      "Downloading values for variable ('2m_temperature', '24_hour_maximum') / 2021\n"
     ]
    },
    {
     "name": "stderr",
     "output_type": "stream",
     "text": [
      "/home/c4ubuntu/anaconda3/lib/python3.9/site-packages/urllib3/connectionpool.py:1043: InsecureRequestWarning: Unverified HTTPS request is being made to host 'cds.climate.copernicus.eu'. Adding certificate verification is strongly advised. See: https://urllib3.readthedocs.io/en/1.26.x/advanced-usage.html#ssl-warnings\n",
      "  warnings.warn(\n",
      "2023-08-30 06:34:08,701 INFO Downloading https://download-0020.copernicus-climate.eu/cache-compute-0020/cache/data6/dataset-sis-agrometeorological-indicators-79274601-d570-4d08-8935-906859f62659.zip to 0_downloads/AgERA5_Zimbabwe_2m_temperature_24_hour_maximum_2021.zip (7.6M)\n",
      "/home/c4ubuntu/anaconda3/lib/python3.9/site-packages/urllib3/connectionpool.py:1043: InsecureRequestWarning: Unverified HTTPS request is being made to host 'download-0020.copernicus-climate.eu'. Adding certificate verification is strongly advised. See: https://urllib3.readthedocs.io/en/1.26.x/advanced-usage.html#ssl-warnings\n",
      "  warnings.warn(\n",
      "2023-08-30 06:34:11,745 INFO Download rate 2.5M/s                                                                                    \n",
      "/home/c4ubuntu/anaconda3/lib/python3.9/site-packages/urllib3/connectionpool.py:1043: InsecureRequestWarning: Unverified HTTPS request is being made to host 'cds.climate.copernicus.eu'. Adding certificate verification is strongly advised. See: https://urllib3.readthedocs.io/en/1.26.x/advanced-usage.html#ssl-warnings\n",
      "  warnings.warn(\n",
      "/home/c4ubuntu/anaconda3/lib/python3.9/site-packages/urllib3/connectionpool.py:1043: InsecureRequestWarning: Unverified HTTPS request is being made to host 'cds.climate.copernicus.eu'. Adding certificate verification is strongly advised. See: https://urllib3.readthedocs.io/en/1.26.x/advanced-usage.html#ssl-warnings\n",
      "  warnings.warn(\n",
      "2023-08-30 06:34:12,100 INFO Welcome to the CDS\n",
      "2023-08-30 06:34:12,101 INFO Sending request to https://cds.climate.copernicus.eu/api/v2/resources/sis-agrometeorological-indicators\n"
     ]
    },
    {
     "name": "stdout",
     "output_type": "stream",
     "text": [
      "Download OK\n",
      "\n",
      "Downloading values for variable ('precipitation_flux', 'daily') / 2021\n"
     ]
    },
    {
     "name": "stderr",
     "output_type": "stream",
     "text": [
      "/home/c4ubuntu/anaconda3/lib/python3.9/site-packages/urllib3/connectionpool.py:1043: InsecureRequestWarning: Unverified HTTPS request is being made to host 'cds.climate.copernicus.eu'. Adding certificate verification is strongly advised. See: https://urllib3.readthedocs.io/en/1.26.x/advanced-usage.html#ssl-warnings\n",
      "  warnings.warn(\n",
      "2023-08-30 06:34:12,335 INFO Downloading https://download-0014-clone.copernicus-climate.eu/cache-compute-0014/cache/data9/dataset-sis-agrometeorological-indicators-660da7e6-4b1b-4ba7-a17d-6766209e51d1.zip to 0_downloads/AgERA5_Zimbabwe_precipitation_flux_daily_2021.zip (7.6M)\n",
      "/home/c4ubuntu/anaconda3/lib/python3.9/site-packages/urllib3/connectionpool.py:1043: InsecureRequestWarning: Unverified HTTPS request is being made to host 'download-0014-clone.copernicus-climate.eu'. Adding certificate verification is strongly advised. See: https://urllib3.readthedocs.io/en/1.26.x/advanced-usage.html#ssl-warnings\n",
      "  warnings.warn(\n",
      "2023-08-30 06:34:14,725 INFO Download rate 3.2M/s                                                                                    \n",
      "/home/c4ubuntu/anaconda3/lib/python3.9/site-packages/urllib3/connectionpool.py:1043: InsecureRequestWarning: Unverified HTTPS request is being made to host 'cds.climate.copernicus.eu'. Adding certificate verification is strongly advised. See: https://urllib3.readthedocs.io/en/1.26.x/advanced-usage.html#ssl-warnings\n",
      "  warnings.warn(\n"
     ]
    },
    {
     "name": "stdout",
     "output_type": "stream",
     "text": [
      "Download OK\n",
      "===== extract_agERA5_month =====\n"
     ]
    },
    {
     "name": "stderr",
     "output_type": "stream",
     "text": [
      "100%|██████████████████████████████████████████████████████████████████████████████████████████████████| 3/3 [01:39<00:00, 33.05s/it]\n"
     ]
    },
    {
     "name": "stdout",
     "output_type": "stream",
     "text": [
      "Extraction OK\n",
      "===== download_AgERA5_month =====\n",
      "\n",
      "Downloading values for variable ('2m_temperature', '24_hour_minimum') / 2022\n"
     ]
    },
    {
     "name": "stderr",
     "output_type": "stream",
     "text": [
      "/home/c4ubuntu/anaconda3/lib/python3.9/site-packages/urllib3/connectionpool.py:1043: InsecureRequestWarning: Unverified HTTPS request is being made to host 'cds.climate.copernicus.eu'. Adding certificate verification is strongly advised. See: https://urllib3.readthedocs.io/en/1.26.x/advanced-usage.html#ssl-warnings\n",
      "  warnings.warn(\n",
      "2023-08-30 06:35:54,971 INFO Welcome to the CDS\n",
      "2023-08-30 06:35:54,972 INFO Sending request to https://cds.climate.copernicus.eu/api/v2/resources/sis-agrometeorological-indicators\n",
      "/home/c4ubuntu/anaconda3/lib/python3.9/site-packages/urllib3/connectionpool.py:1043: InsecureRequestWarning: Unverified HTTPS request is being made to host 'cds.climate.copernicus.eu'. Adding certificate verification is strongly advised. See: https://urllib3.readthedocs.io/en/1.26.x/advanced-usage.html#ssl-warnings\n",
      "  warnings.warn(\n",
      "2023-08-30 06:35:55,188 INFO Request is completed\n",
      "2023-08-30 06:35:55,189 INFO Downloading https://download-0015-clone.copernicus-climate.eu/cache-compute-0015/cache/data8/dataset-sis-agrometeorological-indicators-85eac520-2610-4920-87c7-4d5ccdc80b70.zip to 0_downloads/AgERA5_Zimbabwe_2m_temperature_24_hour_minimum_2022.zip (7.6M)\n",
      "/home/c4ubuntu/anaconda3/lib/python3.9/site-packages/urllib3/connectionpool.py:1043: InsecureRequestWarning: Unverified HTTPS request is being made to host 'download-0015-clone.copernicus-climate.eu'. Adding certificate verification is strongly advised. See: https://urllib3.readthedocs.io/en/1.26.x/advanced-usage.html#ssl-warnings\n",
      "  warnings.warn(\n",
      "2023-08-30 06:35:57,750 INFO Download rate 3M/s                                                                                      \n",
      "/home/c4ubuntu/anaconda3/lib/python3.9/site-packages/urllib3/connectionpool.py:1043: InsecureRequestWarning: Unverified HTTPS request is being made to host 'cds.climate.copernicus.eu'. Adding certificate verification is strongly advised. See: https://urllib3.readthedocs.io/en/1.26.x/advanced-usage.html#ssl-warnings\n",
      "  warnings.warn(\n",
      "/home/c4ubuntu/anaconda3/lib/python3.9/site-packages/urllib3/connectionpool.py:1043: InsecureRequestWarning: Unverified HTTPS request is being made to host 'cds.climate.copernicus.eu'. Adding certificate verification is strongly advised. See: https://urllib3.readthedocs.io/en/1.26.x/advanced-usage.html#ssl-warnings\n",
      "  warnings.warn(\n",
      "2023-08-30 06:35:58,116 INFO Welcome to the CDS\n",
      "2023-08-30 06:35:58,117 INFO Sending request to https://cds.climate.copernicus.eu/api/v2/resources/sis-agrometeorological-indicators\n"
     ]
    },
    {
     "name": "stdout",
     "output_type": "stream",
     "text": [
      "Download OK\n",
      "\n",
      "Downloading values for variable ('2m_temperature', '24_hour_maximum') / 2022\n"
     ]
    },
    {
     "name": "stderr",
     "output_type": "stream",
     "text": [
      "/home/c4ubuntu/anaconda3/lib/python3.9/site-packages/urllib3/connectionpool.py:1043: InsecureRequestWarning: Unverified HTTPS request is being made to host 'cds.climate.copernicus.eu'. Adding certificate verification is strongly advised. See: https://urllib3.readthedocs.io/en/1.26.x/advanced-usage.html#ssl-warnings\n",
      "  warnings.warn(\n",
      "2023-08-30 06:35:58,346 INFO Request is queued\n",
      "/home/c4ubuntu/anaconda3/lib/python3.9/site-packages/urllib3/connectionpool.py:1043: InsecureRequestWarning: Unverified HTTPS request is being made to host 'cds.climate.copernicus.eu'. Adding certificate verification is strongly advised. See: https://urllib3.readthedocs.io/en/1.26.x/advanced-usage.html#ssl-warnings\n",
      "  warnings.warn(\n",
      "2023-08-30 06:35:59,530 INFO Request is running\n",
      "/home/c4ubuntu/anaconda3/lib/python3.9/site-packages/urllib3/connectionpool.py:1043: InsecureRequestWarning: Unverified HTTPS request is being made to host 'cds.climate.copernicus.eu'. Adding certificate verification is strongly advised. See: https://urllib3.readthedocs.io/en/1.26.x/advanced-usage.html#ssl-warnings\n",
      "  warnings.warn(\n",
      "/home/c4ubuntu/anaconda3/lib/python3.9/site-packages/urllib3/connectionpool.py:1043: InsecureRequestWarning: Unverified HTTPS request is being made to host 'cds.climate.copernicus.eu'. Adding certificate verification is strongly advised. See: https://urllib3.readthedocs.io/en/1.26.x/advanced-usage.html#ssl-warnings\n",
      "  warnings.warn(\n",
      "/home/c4ubuntu/anaconda3/lib/python3.9/site-packages/urllib3/connectionpool.py:1043: InsecureRequestWarning: Unverified HTTPS request is being made to host 'cds.climate.copernicus.eu'. Adding certificate verification is strongly advised. See: https://urllib3.readthedocs.io/en/1.26.x/advanced-usage.html#ssl-warnings\n",
      "  warnings.warn(\n",
      "/home/c4ubuntu/anaconda3/lib/python3.9/site-packages/urllib3/connectionpool.py:1043: InsecureRequestWarning: Unverified HTTPS request is being made to host 'cds.climate.copernicus.eu'. Adding certificate verification is strongly advised. See: https://urllib3.readthedocs.io/en/1.26.x/advanced-usage.html#ssl-warnings\n",
      "  warnings.warn(\n",
      "/home/c4ubuntu/anaconda3/lib/python3.9/site-packages/urllib3/connectionpool.py:1043: InsecureRequestWarning: Unverified HTTPS request is being made to host 'cds.climate.copernicus.eu'. Adding certificate verification is strongly advised. See: https://urllib3.readthedocs.io/en/1.26.x/advanced-usage.html#ssl-warnings\n",
      "  warnings.warn(\n",
      "/home/c4ubuntu/anaconda3/lib/python3.9/site-packages/urllib3/connectionpool.py:1043: InsecureRequestWarning: Unverified HTTPS request is being made to host 'cds.climate.copernicus.eu'. Adding certificate verification is strongly advised. See: https://urllib3.readthedocs.io/en/1.26.x/advanced-usage.html#ssl-warnings\n",
      "  warnings.warn(\n",
      "/home/c4ubuntu/anaconda3/lib/python3.9/site-packages/urllib3/connectionpool.py:1043: InsecureRequestWarning: Unverified HTTPS request is being made to host 'cds.climate.copernicus.eu'. Adding certificate verification is strongly advised. See: https://urllib3.readthedocs.io/en/1.26.x/advanced-usage.html#ssl-warnings\n",
      "  warnings.warn(\n",
      "/home/c4ubuntu/anaconda3/lib/python3.9/site-packages/urllib3/connectionpool.py:1043: InsecureRequestWarning: Unverified HTTPS request is being made to host 'cds.climate.copernicus.eu'. Adding certificate verification is strongly advised. See: https://urllib3.readthedocs.io/en/1.26.x/advanced-usage.html#ssl-warnings\n",
      "  warnings.warn(\n",
      "2023-08-30 06:37:14,951 INFO Request is completed\n",
      "2023-08-30 06:37:14,952 INFO Downloading https://download-0021.copernicus-climate.eu/cache-compute-0021/cache/data7/dataset-sis-agrometeorological-indicators-7b1bbef1-4220-45ed-9765-0ec0880c7678.zip to 0_downloads/AgERA5_Zimbabwe_2m_temperature_24_hour_maximum_2022.zip (7.6M)\n",
      "/home/c4ubuntu/anaconda3/lib/python3.9/site-packages/urllib3/connectionpool.py:1043: InsecureRequestWarning: Unverified HTTPS request is being made to host 'download-0021.copernicus-climate.eu'. Adding certificate verification is strongly advised. See: https://urllib3.readthedocs.io/en/1.26.x/advanced-usage.html#ssl-warnings\n",
      "  warnings.warn(\n",
      "2023-08-30 06:37:17,805 INFO Download rate 2.7M/s                                                                                    \n",
      "/home/c4ubuntu/anaconda3/lib/python3.9/site-packages/urllib3/connectionpool.py:1043: InsecureRequestWarning: Unverified HTTPS request is being made to host 'cds.climate.copernicus.eu'. Adding certificate verification is strongly advised. See: https://urllib3.readthedocs.io/en/1.26.x/advanced-usage.html#ssl-warnings\n",
      "  warnings.warn(\n",
      "/home/c4ubuntu/anaconda3/lib/python3.9/site-packages/urllib3/connectionpool.py:1043: InsecureRequestWarning: Unverified HTTPS request is being made to host 'cds.climate.copernicus.eu'. Adding certificate verification is strongly advised. See: https://urllib3.readthedocs.io/en/1.26.x/advanced-usage.html#ssl-warnings\n",
      "  warnings.warn(\n",
      "2023-08-30 06:37:18,170 INFO Welcome to the CDS\n",
      "2023-08-30 06:37:18,171 INFO Sending request to https://cds.climate.copernicus.eu/api/v2/resources/sis-agrometeorological-indicators\n"
     ]
    },
    {
     "name": "stdout",
     "output_type": "stream",
     "text": [
      "Download OK\n",
      "\n",
      "Downloading values for variable ('precipitation_flux', 'daily') / 2022\n"
     ]
    },
    {
     "name": "stderr",
     "output_type": "stream",
     "text": [
      "/home/c4ubuntu/anaconda3/lib/python3.9/site-packages/urllib3/connectionpool.py:1043: InsecureRequestWarning: Unverified HTTPS request is being made to host 'cds.climate.copernicus.eu'. Adding certificate verification is strongly advised. See: https://urllib3.readthedocs.io/en/1.26.x/advanced-usage.html#ssl-warnings\n",
      "  warnings.warn(\n",
      "2023-08-30 06:37:18,378 INFO Request is queued\n",
      "/home/c4ubuntu/anaconda3/lib/python3.9/site-packages/urllib3/connectionpool.py:1043: InsecureRequestWarning: Unverified HTTPS request is being made to host 'cds.climate.copernicus.eu'. Adding certificate verification is strongly advised. See: https://urllib3.readthedocs.io/en/1.26.x/advanced-usage.html#ssl-warnings\n",
      "  warnings.warn(\n",
      "2023-08-30 06:37:19,562 INFO Request is running\n",
      "/home/c4ubuntu/anaconda3/lib/python3.9/site-packages/urllib3/connectionpool.py:1043: InsecureRequestWarning: Unverified HTTPS request is being made to host 'cds.climate.copernicus.eu'. Adding certificate verification is strongly advised. See: https://urllib3.readthedocs.io/en/1.26.x/advanced-usage.html#ssl-warnings\n",
      "  warnings.warn(\n",
      "/home/c4ubuntu/anaconda3/lib/python3.9/site-packages/urllib3/connectionpool.py:1043: InsecureRequestWarning: Unverified HTTPS request is being made to host 'cds.climate.copernicus.eu'. Adding certificate verification is strongly advised. See: https://urllib3.readthedocs.io/en/1.26.x/advanced-usage.html#ssl-warnings\n",
      "  warnings.warn(\n",
      "/home/c4ubuntu/anaconda3/lib/python3.9/site-packages/urllib3/connectionpool.py:1043: InsecureRequestWarning: Unverified HTTPS request is being made to host 'cds.climate.copernicus.eu'. Adding certificate verification is strongly advised. See: https://urllib3.readthedocs.io/en/1.26.x/advanced-usage.html#ssl-warnings\n",
      "  warnings.warn(\n",
      "/home/c4ubuntu/anaconda3/lib/python3.9/site-packages/urllib3/connectionpool.py:1043: InsecureRequestWarning: Unverified HTTPS request is being made to host 'cds.climate.copernicus.eu'. Adding certificate verification is strongly advised. See: https://urllib3.readthedocs.io/en/1.26.x/advanced-usage.html#ssl-warnings\n",
      "  warnings.warn(\n",
      "/home/c4ubuntu/anaconda3/lib/python3.9/site-packages/urllib3/connectionpool.py:1043: InsecureRequestWarning: Unverified HTTPS request is being made to host 'cds.climate.copernicus.eu'. Adding certificate verification is strongly advised. See: https://urllib3.readthedocs.io/en/1.26.x/advanced-usage.html#ssl-warnings\n",
      "  warnings.warn(\n",
      "/home/c4ubuntu/anaconda3/lib/python3.9/site-packages/urllib3/connectionpool.py:1043: InsecureRequestWarning: Unverified HTTPS request is being made to host 'cds.climate.copernicus.eu'. Adding certificate verification is strongly advised. See: https://urllib3.readthedocs.io/en/1.26.x/advanced-usage.html#ssl-warnings\n",
      "  warnings.warn(\n",
      "/home/c4ubuntu/anaconda3/lib/python3.9/site-packages/urllib3/connectionpool.py:1043: InsecureRequestWarning: Unverified HTTPS request is being made to host 'cds.climate.copernicus.eu'. Adding certificate verification is strongly advised. See: https://urllib3.readthedocs.io/en/1.26.x/advanced-usage.html#ssl-warnings\n",
      "  warnings.warn(\n",
      "2023-08-30 06:38:09,141 INFO Request is completed\n",
      "2023-08-30 06:38:09,142 INFO Downloading https://download-0002-clone.copernicus-climate.eu/cache-compute-0002/cache/data4/dataset-sis-agrometeorological-indicators-0381474b-aae4-41cf-875e-fff426a84aef.zip to 0_downloads/AgERA5_Zimbabwe_precipitation_flux_daily_2022.zip (7.6M)\n",
      "/home/c4ubuntu/anaconda3/lib/python3.9/site-packages/urllib3/connectionpool.py:1043: InsecureRequestWarning: Unverified HTTPS request is being made to host 'download-0002-clone.copernicus-climate.eu'. Adding certificate verification is strongly advised. See: https://urllib3.readthedocs.io/en/1.26.x/advanced-usage.html#ssl-warnings\n",
      "  warnings.warn(\n",
      "2023-08-30 06:38:11,812 INFO Download rate 2.8M/s                                                                                    \n",
      "/home/c4ubuntu/anaconda3/lib/python3.9/site-packages/urllib3/connectionpool.py:1043: InsecureRequestWarning: Unverified HTTPS request is being made to host 'cds.climate.copernicus.eu'. Adding certificate verification is strongly advised. See: https://urllib3.readthedocs.io/en/1.26.x/advanced-usage.html#ssl-warnings\n",
      "  warnings.warn(\n"
     ]
    },
    {
     "name": "stdout",
     "output_type": "stream",
     "text": [
      "Download OK\n",
      "===== extract_agERA5_month =====\n"
     ]
    },
    {
     "name": "stderr",
     "output_type": "stream",
     "text": [
      "100%|██████████████████████████████████████████████████████████████████████████████████████████████████| 3/3 [01:52<00:00, 37.52s/it]\n"
     ]
    },
    {
     "name": "stdout",
     "output_type": "stream",
     "text": [
      "Extraction OK\n",
      "===== download_AgERA5_month =====\n",
      "\n",
      "Downloading values for variable ('2m_temperature', '24_hour_minimum') / 2023\n"
     ]
    },
    {
     "name": "stderr",
     "output_type": "stream",
     "text": [
      "/home/c4ubuntu/anaconda3/lib/python3.9/site-packages/urllib3/connectionpool.py:1043: InsecureRequestWarning: Unverified HTTPS request is being made to host 'cds.climate.copernicus.eu'. Adding certificate verification is strongly advised. See: https://urllib3.readthedocs.io/en/1.26.x/advanced-usage.html#ssl-warnings\n",
      "  warnings.warn(\n",
      "2023-08-30 06:40:05,649 INFO Welcome to the CDS\n",
      "2023-08-30 06:40:05,650 INFO Sending request to https://cds.climate.copernicus.eu/api/v2/resources/sis-agrometeorological-indicators\n",
      "/home/c4ubuntu/anaconda3/lib/python3.9/site-packages/urllib3/connectionpool.py:1043: InsecureRequestWarning: Unverified HTTPS request is being made to host 'cds.climate.copernicus.eu'. Adding certificate verification is strongly advised. See: https://urllib3.readthedocs.io/en/1.26.x/advanced-usage.html#ssl-warnings\n",
      "  warnings.warn(\n",
      "2023-08-30 06:40:05,883 INFO Request is completed\n",
      "2023-08-30 06:40:05,884 INFO Downloading https://download-0011-clone.copernicus-climate.eu/cache-compute-0011/cache/data5/dataset-sis-agrometeorological-indicators-3d23541d-2e2e-41f7-b1ec-c621def86368.zip to 0_downloads/AgERA5_Zimbabwe_2m_temperature_24_hour_minimum_2023.zip (4.9M)\n",
      "/home/c4ubuntu/anaconda3/lib/python3.9/site-packages/urllib3/connectionpool.py:1043: InsecureRequestWarning: Unverified HTTPS request is being made to host 'download-0011-clone.copernicus-climate.eu'. Adding certificate verification is strongly advised. See: https://urllib3.readthedocs.io/en/1.26.x/advanced-usage.html#ssl-warnings\n",
      "  warnings.warn(\n",
      "2023-08-30 06:40:08,279 INFO Download rate 2M/s                                                                                      \n",
      "/home/c4ubuntu/anaconda3/lib/python3.9/site-packages/urllib3/connectionpool.py:1043: InsecureRequestWarning: Unverified HTTPS request is being made to host 'cds.climate.copernicus.eu'. Adding certificate verification is strongly advised. See: https://urllib3.readthedocs.io/en/1.26.x/advanced-usage.html#ssl-warnings\n",
      "  warnings.warn(\n",
      "/home/c4ubuntu/anaconda3/lib/python3.9/site-packages/urllib3/connectionpool.py:1043: InsecureRequestWarning: Unverified HTTPS request is being made to host 'cds.climate.copernicus.eu'. Adding certificate verification is strongly advised. See: https://urllib3.readthedocs.io/en/1.26.x/advanced-usage.html#ssl-warnings\n",
      "  warnings.warn(\n",
      "2023-08-30 06:40:08,638 INFO Welcome to the CDS\n",
      "2023-08-30 06:40:08,639 INFO Sending request to https://cds.climate.copernicus.eu/api/v2/resources/sis-agrometeorological-indicators\n"
     ]
    },
    {
     "name": "stdout",
     "output_type": "stream",
     "text": [
      "Download OK\n",
      "\n",
      "Downloading values for variable ('2m_temperature', '24_hour_maximum') / 2023\n"
     ]
    },
    {
     "name": "stderr",
     "output_type": "stream",
     "text": [
      "/home/c4ubuntu/anaconda3/lib/python3.9/site-packages/urllib3/connectionpool.py:1043: InsecureRequestWarning: Unverified HTTPS request is being made to host 'cds.climate.copernicus.eu'. Adding certificate verification is strongly advised. See: https://urllib3.readthedocs.io/en/1.26.x/advanced-usage.html#ssl-warnings\n",
      "  warnings.warn(\n",
      "2023-08-30 06:40:08,833 INFO Request is queued\n",
      "/home/c4ubuntu/anaconda3/lib/python3.9/site-packages/urllib3/connectionpool.py:1043: InsecureRequestWarning: Unverified HTTPS request is being made to host 'cds.climate.copernicus.eu'. Adding certificate verification is strongly advised. See: https://urllib3.readthedocs.io/en/1.26.x/advanced-usage.html#ssl-warnings\n",
      "  warnings.warn(\n",
      "2023-08-30 06:40:10,014 INFO Request is running\n",
      "/home/c4ubuntu/anaconda3/lib/python3.9/site-packages/urllib3/connectionpool.py:1043: InsecureRequestWarning: Unverified HTTPS request is being made to host 'cds.climate.copernicus.eu'. Adding certificate verification is strongly advised. See: https://urllib3.readthedocs.io/en/1.26.x/advanced-usage.html#ssl-warnings\n",
      "  warnings.warn(\n",
      "/home/c4ubuntu/anaconda3/lib/python3.9/site-packages/urllib3/connectionpool.py:1043: InsecureRequestWarning: Unverified HTTPS request is being made to host 'cds.climate.copernicus.eu'. Adding certificate verification is strongly advised. See: https://urllib3.readthedocs.io/en/1.26.x/advanced-usage.html#ssl-warnings\n",
      "  warnings.warn(\n",
      "/home/c4ubuntu/anaconda3/lib/python3.9/site-packages/urllib3/connectionpool.py:1043: InsecureRequestWarning: Unverified HTTPS request is being made to host 'cds.climate.copernicus.eu'. Adding certificate verification is strongly advised. See: https://urllib3.readthedocs.io/en/1.26.x/advanced-usage.html#ssl-warnings\n",
      "  warnings.warn(\n",
      "/home/c4ubuntu/anaconda3/lib/python3.9/site-packages/urllib3/connectionpool.py:1043: InsecureRequestWarning: Unverified HTTPS request is being made to host 'cds.climate.copernicus.eu'. Adding certificate verification is strongly advised. See: https://urllib3.readthedocs.io/en/1.26.x/advanced-usage.html#ssl-warnings\n",
      "  warnings.warn(\n",
      "/home/c4ubuntu/anaconda3/lib/python3.9/site-packages/urllib3/connectionpool.py:1043: InsecureRequestWarning: Unverified HTTPS request is being made to host 'cds.climate.copernicus.eu'. Adding certificate verification is strongly advised. See: https://urllib3.readthedocs.io/en/1.26.x/advanced-usage.html#ssl-warnings\n",
      "  warnings.warn(\n",
      "/home/c4ubuntu/anaconda3/lib/python3.9/site-packages/urllib3/connectionpool.py:1043: InsecureRequestWarning: Unverified HTTPS request is being made to host 'cds.climate.copernicus.eu'. Adding certificate verification is strongly advised. See: https://urllib3.readthedocs.io/en/1.26.x/advanced-usage.html#ssl-warnings\n",
      "  warnings.warn(\n",
      "/home/c4ubuntu/anaconda3/lib/python3.9/site-packages/urllib3/connectionpool.py:1043: InsecureRequestWarning: Unverified HTTPS request is being made to host 'cds.climate.copernicus.eu'. Adding certificate verification is strongly advised. See: https://urllib3.readthedocs.io/en/1.26.x/advanced-usage.html#ssl-warnings\n",
      "  warnings.warn(\n",
      "2023-08-30 06:40:59,575 INFO Request is completed\n",
      "2023-08-30 06:40:59,575 INFO Downloading https://download-0004-clone.copernicus-climate.eu/cache-compute-0004/cache/data8/dataset-sis-agrometeorological-indicators-c7f32e3c-5fd9-49e8-a326-0ff0c871c493.zip to 0_downloads/AgERA5_Zimbabwe_2m_temperature_24_hour_maximum_2023.zip (4.9M)\n",
      "/home/c4ubuntu/anaconda3/lib/python3.9/site-packages/urllib3/connectionpool.py:1043: InsecureRequestWarning: Unverified HTTPS request is being made to host 'download-0004-clone.copernicus-climate.eu'. Adding certificate verification is strongly advised. See: https://urllib3.readthedocs.io/en/1.26.x/advanced-usage.html#ssl-warnings\n",
      "  warnings.warn(\n",
      "2023-08-30 06:41:01,909 INFO Download rate 2.1M/s                                                                                    \n",
      "/home/c4ubuntu/anaconda3/lib/python3.9/site-packages/urllib3/connectionpool.py:1043: InsecureRequestWarning: Unverified HTTPS request is being made to host 'cds.climate.copernicus.eu'. Adding certificate verification is strongly advised. See: https://urllib3.readthedocs.io/en/1.26.x/advanced-usage.html#ssl-warnings\n",
      "  warnings.warn(\n",
      "/home/c4ubuntu/anaconda3/lib/python3.9/site-packages/urllib3/connectionpool.py:1043: InsecureRequestWarning: Unverified HTTPS request is being made to host 'cds.climate.copernicus.eu'. Adding certificate verification is strongly advised. See: https://urllib3.readthedocs.io/en/1.26.x/advanced-usage.html#ssl-warnings\n",
      "  warnings.warn(\n",
      "2023-08-30 06:41:02,267 INFO Welcome to the CDS\n",
      "2023-08-30 06:41:02,268 INFO Sending request to https://cds.climate.copernicus.eu/api/v2/resources/sis-agrometeorological-indicators\n"
     ]
    },
    {
     "name": "stdout",
     "output_type": "stream",
     "text": [
      "Download OK\n",
      "\n",
      "Downloading values for variable ('precipitation_flux', 'daily') / 2023\n"
     ]
    },
    {
     "name": "stderr",
     "output_type": "stream",
     "text": [
      "/home/c4ubuntu/anaconda3/lib/python3.9/site-packages/urllib3/connectionpool.py:1043: InsecureRequestWarning: Unverified HTTPS request is being made to host 'cds.climate.copernicus.eu'. Adding certificate verification is strongly advised. See: https://urllib3.readthedocs.io/en/1.26.x/advanced-usage.html#ssl-warnings\n",
      "  warnings.warn(\n",
      "2023-08-30 06:41:02,510 INFO Request is queued\n",
      "/home/c4ubuntu/anaconda3/lib/python3.9/site-packages/urllib3/connectionpool.py:1043: InsecureRequestWarning: Unverified HTTPS request is being made to host 'cds.climate.copernicus.eu'. Adding certificate verification is strongly advised. See: https://urllib3.readthedocs.io/en/1.26.x/advanced-usage.html#ssl-warnings\n",
      "  warnings.warn(\n",
      "2023-08-30 06:41:03,689 INFO Request is running\n",
      "/home/c4ubuntu/anaconda3/lib/python3.9/site-packages/urllib3/connectionpool.py:1043: InsecureRequestWarning: Unverified HTTPS request is being made to host 'cds.climate.copernicus.eu'. Adding certificate verification is strongly advised. See: https://urllib3.readthedocs.io/en/1.26.x/advanced-usage.html#ssl-warnings\n",
      "  warnings.warn(\n",
      "/home/c4ubuntu/anaconda3/lib/python3.9/site-packages/urllib3/connectionpool.py:1043: InsecureRequestWarning: Unverified HTTPS request is being made to host 'cds.climate.copernicus.eu'. Adding certificate verification is strongly advised. See: https://urllib3.readthedocs.io/en/1.26.x/advanced-usage.html#ssl-warnings\n",
      "  warnings.warn(\n",
      "/home/c4ubuntu/anaconda3/lib/python3.9/site-packages/urllib3/connectionpool.py:1043: InsecureRequestWarning: Unverified HTTPS request is being made to host 'cds.climate.copernicus.eu'. Adding certificate verification is strongly advised. See: https://urllib3.readthedocs.io/en/1.26.x/advanced-usage.html#ssl-warnings\n",
      "  warnings.warn(\n",
      "/home/c4ubuntu/anaconda3/lib/python3.9/site-packages/urllib3/connectionpool.py:1043: InsecureRequestWarning: Unverified HTTPS request is being made to host 'cds.climate.copernicus.eu'. Adding certificate verification is strongly advised. See: https://urllib3.readthedocs.io/en/1.26.x/advanced-usage.html#ssl-warnings\n",
      "  warnings.warn(\n",
      "/home/c4ubuntu/anaconda3/lib/python3.9/site-packages/urllib3/connectionpool.py:1043: InsecureRequestWarning: Unverified HTTPS request is being made to host 'cds.climate.copernicus.eu'. Adding certificate verification is strongly advised. See: https://urllib3.readthedocs.io/en/1.26.x/advanced-usage.html#ssl-warnings\n",
      "  warnings.warn(\n",
      "/home/c4ubuntu/anaconda3/lib/python3.9/site-packages/urllib3/connectionpool.py:1043: InsecureRequestWarning: Unverified HTTPS request is being made to host 'cds.climate.copernicus.eu'. Adding certificate verification is strongly advised. See: https://urllib3.readthedocs.io/en/1.26.x/advanced-usage.html#ssl-warnings\n",
      "  warnings.warn(\n",
      "/home/c4ubuntu/anaconda3/lib/python3.9/site-packages/urllib3/connectionpool.py:1043: InsecureRequestWarning: Unverified HTTPS request is being made to host 'cds.climate.copernicus.eu'. Adding certificate verification is strongly advised. See: https://urllib3.readthedocs.io/en/1.26.x/advanced-usage.html#ssl-warnings\n",
      "  warnings.warn(\n",
      "2023-08-30 06:41:53,247 INFO Request is completed\n",
      "2023-08-30 06:41:53,248 INFO Downloading https://download-0021.copernicus-climate.eu/cache-compute-0021/cache/data8/dataset-sis-agrometeorological-indicators-aaec8d8c-b731-4d05-8c1f-fac12e37e86a.zip to 0_downloads/AgERA5_Zimbabwe_precipitation_flux_daily_2023.zip (4.9M)\n",
      "/home/c4ubuntu/anaconda3/lib/python3.9/site-packages/urllib3/connectionpool.py:1043: InsecureRequestWarning: Unverified HTTPS request is being made to host 'download-0021.copernicus-climate.eu'. Adding certificate verification is strongly advised. See: https://urllib3.readthedocs.io/en/1.26.x/advanced-usage.html#ssl-warnings\n",
      "  warnings.warn(\n",
      "2023-08-30 06:41:55,887 INFO Download rate 1.8M/s                                                                                    \n",
      "/home/c4ubuntu/anaconda3/lib/python3.9/site-packages/urllib3/connectionpool.py:1043: InsecureRequestWarning: Unverified HTTPS request is being made to host 'cds.climate.copernicus.eu'. Adding certificate verification is strongly advised. See: https://urllib3.readthedocs.io/en/1.26.x/advanced-usage.html#ssl-warnings\n",
      "  warnings.warn(\n"
     ]
    },
    {
     "name": "stdout",
     "output_type": "stream",
     "text": [
      "Download OK\n",
      "===== extract_agERA5_month =====\n"
     ]
    },
    {
     "name": "stderr",
     "output_type": "stream",
     "text": [
      "100%|██████████████████████████████████████████████████████████████████████████████████████████████████| 3/3 [00:58<00:00, 19.34s/it]"
     ]
    },
    {
     "name": "stdout",
     "output_type": "stream",
     "text": [
      "Extraction OK\n"
     ]
    },
    {
     "name": "stderr",
     "output_type": "stream",
     "text": [
      "\n"
     ]
    }
   ],
   "source": [
    "n, e, s, w =  aoi.total_bounds[-1], aoi.total_bounds[-2], aoi.total_bounds[1], aoi.total_bounds[2]\n",
    "\n",
    "# parameters\n",
    "for year in datelist:\n",
    "    query_date = year\n",
    "    area = {'Zimbabwe': [\n",
    "            -17.5, 32.63, -18.79,\n",
    "            33.06]}\n",
    "    selected_area = \"Zimbabwe\"\n",
    "    variables = [\n",
    "    (\"2m_temperature\",\"24_hour_minimum\"),\n",
    "    (\"2m_temperature\",\"24_hour_maximum\"),\n",
    "    (\"precipitation_flux\",\"daily\")]\n",
    "    download_AgERA5_month(selected_area, variables, query_date)\n",
    "    extract_agERA5_month(selected_area, variables, query_date)\n",
    "    \n",
    "\n",
    "#calculate_AgERA5_ET0_and_save(selected_area, variables, query_date)\n",
    "#print(\"===== Query date\",query_date.,\"all done ! =====\")"
   ]
  },
  {
   "cell_type": "markdown",
   "metadata": {},
   "source": [
    "# Aggregate"
   ]
  },
  {
   "cell_type": "markdown",
   "metadata": {},
   "source": [
    "### Daily"
   ]
  },
  {
   "cell_type": "code",
   "execution_count": 12,
   "metadata": {
    "scrolled": true
   },
   "outputs": [
    {
     "name": "stdout",
     "output_type": "stream",
     "text": [
      "Writing ('2m_temperature', '24_hour_minimum') 2020\n",
      "Finished writing ('2m_temperature', '24_hour_minimum') 2020\n",
      "Writing ('2m_temperature', '24_hour_maximum') 2020\n",
      "Finished writing ('2m_temperature', '24_hour_maximum') 2020\n",
      "Writing ('precipitation_flux', 'daily') 2020\n",
      "Finished writing ('precipitation_flux', 'daily') 2020\n",
      "Writing ('2m_temperature', '24_hour_minimum') 2021\n",
      "Finished writing ('2m_temperature', '24_hour_minimum') 2021\n",
      "Writing ('2m_temperature', '24_hour_maximum') 2021\n",
      "Finished writing ('2m_temperature', '24_hour_maximum') 2021\n",
      "Writing ('precipitation_flux', 'daily') 2021\n",
      "Finished writing ('precipitation_flux', 'daily') 2021\n",
      "Writing ('2m_temperature', '24_hour_minimum') 2022\n",
      "Finished writing ('2m_temperature', '24_hour_minimum') 2022\n",
      "Writing ('2m_temperature', '24_hour_maximum') 2022\n",
      "Finished writing ('2m_temperature', '24_hour_maximum') 2022\n",
      "Writing ('precipitation_flux', 'daily') 2022\n",
      "Finished writing ('precipitation_flux', 'daily') 2022\n",
      "Writing ('2m_temperature', '24_hour_minimum') 2023\n",
      "Finished writing ('2m_temperature', '24_hour_minimum') 2023\n",
      "Writing ('2m_temperature', '24_hour_maximum') 2023\n",
      "Finished writing ('2m_temperature', '24_hour_maximum') 2023\n",
      "Writing ('precipitation_flux', 'daily') 2023\n",
      "Finished writing ('precipitation_flux', 'daily') 2023\n"
     ]
    }
   ],
   "source": [
    "variables = [\n",
    "    (\"2m_temperature\",\"24_hour_minimum\"),\n",
    "    (\"2m_temperature\",\"24_hour_maximum\"),\n",
    "    (\"precipitation_flux\",\"daily\")]\n",
    "\n",
    "selected_area = 'Zimbabwe'\n",
    "\n",
    "first = pd.date_range(start='2020', end='2023', freq='YS')\n",
    "datelist = [i.strftime('%Y') for i in first]\n",
    "\n",
    "for year in datelist:\n",
    "    for variable in variables:      \n",
    "        files = glob.glob(os.path.join('1_extraction','*{}_{}_{}_{}'.format(selected_area,variable[0],variable[1],year),'*'))\n",
    "        df = xr.open_mfdataset(files, parallel=True, engine=\"netcdf4\", decode_times=True, chunks={'time': 300},\n",
    "                       data_vars='minimal', coords='minimal', compat='override')\n",
    "        if not os.path.exists('2_aggregate/'):\n",
    "            os.makedirs('2_aggregate/')\n",
    "        print('Writing {} {}'.format(variable,year))\n",
    "        df.to_netcdf('2_aggregate/AgERA5_{}_{}_{}_{}.nc'.format(selected_area,variable[0],variable[1],year), mode='w')\n",
    "        df.close()\n",
    "        print('Finished writing {} {}'.format(variable, year))"
   ]
  },
  {
   "cell_type": "markdown",
   "metadata": {},
   "source": [
    "### Annual"
   ]
  },
  {
   "cell_type": "code",
   "execution_count": 13,
   "metadata": {},
   "outputs": [
    {
     "name": "stdout",
     "output_type": "stream",
     "text": [
      "Writing ('2m_temperature', '24_hour_minimum')\n",
      "Finished writing ('2m_temperature', '24_hour_minimum')\n",
      "Writing ('2m_temperature', '24_hour_maximum')\n",
      "Finished writing ('2m_temperature', '24_hour_maximum')\n",
      "Writing ('precipitation_flux', 'daily')\n",
      "Finished writing ('precipitation_flux', 'daily')\n"
     ]
    }
   ],
   "source": [
    "variables = [\n",
    "    (\"2m_temperature\",\"24_hour_minimum\"),\n",
    "    (\"2m_temperature\",\"24_hour_maximum\"),\n",
    "    (\"precipitation_flux\",\"daily\")]\n",
    "\n",
    "selected_area = 'Zimbabwe'\n",
    "\n",
    "for variable in variables:      \n",
    "    files = glob.glob(os.path.join('2_aggregate','*{}_{}_{}*'.format(selected_area,variable[0],variable[1])))\n",
    "    df = xr.open_mfdataset(files, parallel=True, engine=\"netcdf4\", decode_times=True, chunks={'time': 1000},\n",
    "                       data_vars='minimal', coords='minimal', compat='override')\n",
    "    if not os.path.exists('3_combined'):\n",
    "        os.makedirs('3_combined')\n",
    "    print('Writing {}'.format(variable))\n",
    "    df.to_netcdf('3_combined/AgERA5_{}_{}_{}.nc'.format(selected_area,variable[0],variable[1]), mode='w')\n",
    "    df.close()\n",
    "    print('Finished writing {}'.format(variable))"
   ]
  },
  {
   "cell_type": "markdown",
   "metadata": {},
   "source": [
    "## Make sitefiles"
   ]
  },
  {
   "cell_type": "code",
   "execution_count": 14,
   "metadata": {},
   "outputs": [],
   "source": [
    "signifdigits=3\n",
    "data_type = 'AgERA5'\n",
    "country = 'Zimbabwe'\n",
    "outdir= f'/home/c4ubuntu/c4gdata/RiftValley_Zimbabwe/'"
   ]
  },
  {
   "cell_type": "code",
   "execution_count": 15,
   "metadata": {},
   "outputs": [],
   "source": [
    "variables = []\n",
    "for file in glob.glob(os.path.join('3_combined',f'AgERA5_{country}*')):\n",
    "    x = os.path.basename(file).split('_Zimbabwe_')[-1].replace('.nc', '')\n",
    "    variables.append(x)\n",
    "variables = np.unique(variables)"
   ]
  },
  {
   "cell_type": "code",
   "execution_count": 16,
   "metadata": {},
   "outputs": [
    {
     "data": {
      "text/plain": [
       "array(['2m_temperature_24_hour_maximum', '2m_temperature_24_hour_minimum',\n",
       "       'precipitation_flux_daily'], dtype='<U30')"
      ]
     },
     "execution_count": 16,
     "metadata": {},
     "output_type": "execute_result"
    }
   ],
   "source": [
    "variables"
   ]
  },
  {
   "cell_type": "code",
   "execution_count": 17,
   "metadata": {
    "scrolled": true
   },
   "outputs": [],
   "source": [
    "# Get the file names\n",
    "tmin_file = glob.glob(os.path.join('3_combined',f'AgERA5_{country}_{variables[1]}*'))[0]\n",
    "tmax_file = glob.glob(os.path.join('3_combined',f'AgERA5_{country}_{variables[0]}*'))[0]\n",
    "pr_file = glob.glob(os.path.join('3_combined',f'AgERA5_{country}_{variables[2]}*'))[0]"
   ]
  },
  {
   "cell_type": "code",
   "execution_count": 18,
   "metadata": {},
   "outputs": [],
   "source": [
    "#Read the datasets\n",
    "ds = xr.open_dataset(tmin_file)\n",
    "ds1 = xr.open_dataset(tmax_file)\n",
    "ds2 = xr.open_dataset(pr_file)"
   ]
  },
  {
   "cell_type": "code",
   "execution_count": 19,
   "metadata": {},
   "outputs": [
    {
     "name": "stdout",
     "output_type": "stream",
     "text": [
      "/home/c4ubuntu/c4gdata/RiftValley_Zimbabwe//AgERA5_Zimbabwe_-17.6_32.7_2020.csv\n",
      "/home/c4ubuntu/c4gdata/RiftValley_Zimbabwe//AgERA5_Zimbabwe_-17.6_32.8_2020.csv\n",
      "/home/c4ubuntu/c4gdata/RiftValley_Zimbabwe//AgERA5_Zimbabwe_-17.6_32.9_2020.csv\n",
      "/home/c4ubuntu/c4gdata/RiftValley_Zimbabwe//AgERA5_Zimbabwe_-17.6_33.0_2020.csv\n",
      "/home/c4ubuntu/c4gdata/RiftValley_Zimbabwe//AgERA5_Zimbabwe_-17.7_32.7_2020.csv\n",
      "/home/c4ubuntu/c4gdata/RiftValley_Zimbabwe//AgERA5_Zimbabwe_-17.7_32.8_2020.csv\n",
      "/home/c4ubuntu/c4gdata/RiftValley_Zimbabwe//AgERA5_Zimbabwe_-17.7_32.9_2020.csv\n",
      "/home/c4ubuntu/c4gdata/RiftValley_Zimbabwe//AgERA5_Zimbabwe_-17.7_33.0_2020.csv\n",
      "/home/c4ubuntu/c4gdata/RiftValley_Zimbabwe//AgERA5_Zimbabwe_-17.8_32.7_2020.csv\n",
      "/home/c4ubuntu/c4gdata/RiftValley_Zimbabwe//AgERA5_Zimbabwe_-17.8_32.8_2020.csv\n",
      "/home/c4ubuntu/c4gdata/RiftValley_Zimbabwe//AgERA5_Zimbabwe_-17.8_32.9_2020.csv\n",
      "/home/c4ubuntu/c4gdata/RiftValley_Zimbabwe//AgERA5_Zimbabwe_-17.8_33.0_2020.csv\n",
      "/home/c4ubuntu/c4gdata/RiftValley_Zimbabwe//AgERA5_Zimbabwe_-17.9_32.7_2020.csv\n",
      "/home/c4ubuntu/c4gdata/RiftValley_Zimbabwe//AgERA5_Zimbabwe_-17.9_32.8_2020.csv\n",
      "/home/c4ubuntu/c4gdata/RiftValley_Zimbabwe//AgERA5_Zimbabwe_-17.9_32.9_2020.csv\n",
      "/home/c4ubuntu/c4gdata/RiftValley_Zimbabwe//AgERA5_Zimbabwe_-17.9_33.0_2020.csv\n",
      "/home/c4ubuntu/c4gdata/RiftValley_Zimbabwe//AgERA5_Zimbabwe_-18.0_32.7_2020.csv\n",
      "/home/c4ubuntu/c4gdata/RiftValley_Zimbabwe//AgERA5_Zimbabwe_-18.0_32.8_2020.csv\n",
      "/home/c4ubuntu/c4gdata/RiftValley_Zimbabwe//AgERA5_Zimbabwe_-18.0_32.9_2020.csv\n",
      "/home/c4ubuntu/c4gdata/RiftValley_Zimbabwe//AgERA5_Zimbabwe_-18.0_33.0_2020.csv\n",
      "/home/c4ubuntu/c4gdata/RiftValley_Zimbabwe//AgERA5_Zimbabwe_-18.1_32.7_2020.csv\n",
      "/home/c4ubuntu/c4gdata/RiftValley_Zimbabwe//AgERA5_Zimbabwe_-18.1_32.8_2020.csv\n",
      "/home/c4ubuntu/c4gdata/RiftValley_Zimbabwe//AgERA5_Zimbabwe_-18.1_32.9_2020.csv\n",
      "/home/c4ubuntu/c4gdata/RiftValley_Zimbabwe//AgERA5_Zimbabwe_-18.1_33.0_2020.csv\n",
      "/home/c4ubuntu/c4gdata/RiftValley_Zimbabwe//AgERA5_Zimbabwe_-18.2_32.7_2020.csv\n",
      "/home/c4ubuntu/c4gdata/RiftValley_Zimbabwe//AgERA5_Zimbabwe_-18.2_32.8_2020.csv\n",
      "/home/c4ubuntu/c4gdata/RiftValley_Zimbabwe//AgERA5_Zimbabwe_-18.2_32.9_2020.csv\n",
      "/home/c4ubuntu/c4gdata/RiftValley_Zimbabwe//AgERA5_Zimbabwe_-18.2_33.0_2020.csv\n",
      "/home/c4ubuntu/c4gdata/RiftValley_Zimbabwe//AgERA5_Zimbabwe_-18.3_32.7_2020.csv\n",
      "/home/c4ubuntu/c4gdata/RiftValley_Zimbabwe//AgERA5_Zimbabwe_-18.3_32.8_2020.csv\n",
      "/home/c4ubuntu/c4gdata/RiftValley_Zimbabwe//AgERA5_Zimbabwe_-18.3_32.9_2020.csv\n",
      "/home/c4ubuntu/c4gdata/RiftValley_Zimbabwe//AgERA5_Zimbabwe_-18.3_33.0_2020.csv\n",
      "/home/c4ubuntu/c4gdata/RiftValley_Zimbabwe//AgERA5_Zimbabwe_-18.4_32.7_2020.csv\n",
      "/home/c4ubuntu/c4gdata/RiftValley_Zimbabwe//AgERA5_Zimbabwe_-18.4_32.8_2020.csv\n",
      "/home/c4ubuntu/c4gdata/RiftValley_Zimbabwe//AgERA5_Zimbabwe_-18.4_32.9_2020.csv\n",
      "/home/c4ubuntu/c4gdata/RiftValley_Zimbabwe//AgERA5_Zimbabwe_-18.4_33.0_2020.csv\n",
      "/home/c4ubuntu/c4gdata/RiftValley_Zimbabwe//AgERA5_Zimbabwe_-18.5_32.7_2020.csv\n",
      "/home/c4ubuntu/c4gdata/RiftValley_Zimbabwe//AgERA5_Zimbabwe_-18.5_32.8_2020.csv\n",
      "/home/c4ubuntu/c4gdata/RiftValley_Zimbabwe//AgERA5_Zimbabwe_-18.5_32.9_2020.csv\n",
      "/home/c4ubuntu/c4gdata/RiftValley_Zimbabwe//AgERA5_Zimbabwe_-18.5_33.0_2020.csv\n",
      "/home/c4ubuntu/c4gdata/RiftValley_Zimbabwe//AgERA5_Zimbabwe_-18.6_32.7_2020.csv\n",
      "/home/c4ubuntu/c4gdata/RiftValley_Zimbabwe//AgERA5_Zimbabwe_-18.6_32.8_2020.csv\n",
      "/home/c4ubuntu/c4gdata/RiftValley_Zimbabwe//AgERA5_Zimbabwe_-18.6_32.9_2020.csv\n",
      "/home/c4ubuntu/c4gdata/RiftValley_Zimbabwe//AgERA5_Zimbabwe_-18.6_33.0_2020.csv\n",
      "/home/c4ubuntu/c4gdata/RiftValley_Zimbabwe//AgERA5_Zimbabwe_-18.7_32.7_2020.csv\n",
      "/home/c4ubuntu/c4gdata/RiftValley_Zimbabwe//AgERA5_Zimbabwe_-18.7_32.8_2020.csv\n",
      "/home/c4ubuntu/c4gdata/RiftValley_Zimbabwe//AgERA5_Zimbabwe_-18.7_32.9_2020.csv\n",
      "/home/c4ubuntu/c4gdata/RiftValley_Zimbabwe//AgERA5_Zimbabwe_-18.7_33.0_2020.csv\n",
      "/home/c4ubuntu/c4gdata/RiftValley_Zimbabwe//AgERA5_Zimbabwe_-17.6_32.7_2021.csv\n",
      "/home/c4ubuntu/c4gdata/RiftValley_Zimbabwe//AgERA5_Zimbabwe_-17.6_32.8_2021.csv\n",
      "/home/c4ubuntu/c4gdata/RiftValley_Zimbabwe//AgERA5_Zimbabwe_-17.6_32.9_2021.csv\n",
      "/home/c4ubuntu/c4gdata/RiftValley_Zimbabwe//AgERA5_Zimbabwe_-17.6_33.0_2021.csv\n",
      "/home/c4ubuntu/c4gdata/RiftValley_Zimbabwe//AgERA5_Zimbabwe_-17.7_32.7_2021.csv\n",
      "/home/c4ubuntu/c4gdata/RiftValley_Zimbabwe//AgERA5_Zimbabwe_-17.7_32.8_2021.csv\n",
      "/home/c4ubuntu/c4gdata/RiftValley_Zimbabwe//AgERA5_Zimbabwe_-17.7_32.9_2021.csv\n",
      "/home/c4ubuntu/c4gdata/RiftValley_Zimbabwe//AgERA5_Zimbabwe_-17.7_33.0_2021.csv\n",
      "/home/c4ubuntu/c4gdata/RiftValley_Zimbabwe//AgERA5_Zimbabwe_-17.8_32.7_2021.csv\n",
      "/home/c4ubuntu/c4gdata/RiftValley_Zimbabwe//AgERA5_Zimbabwe_-17.8_32.8_2021.csv\n",
      "/home/c4ubuntu/c4gdata/RiftValley_Zimbabwe//AgERA5_Zimbabwe_-17.8_32.9_2021.csv\n",
      "/home/c4ubuntu/c4gdata/RiftValley_Zimbabwe//AgERA5_Zimbabwe_-17.8_33.0_2021.csv\n",
      "/home/c4ubuntu/c4gdata/RiftValley_Zimbabwe//AgERA5_Zimbabwe_-17.9_32.7_2021.csv\n",
      "/home/c4ubuntu/c4gdata/RiftValley_Zimbabwe//AgERA5_Zimbabwe_-17.9_32.8_2021.csv\n",
      "/home/c4ubuntu/c4gdata/RiftValley_Zimbabwe//AgERA5_Zimbabwe_-17.9_32.9_2021.csv\n",
      "/home/c4ubuntu/c4gdata/RiftValley_Zimbabwe//AgERA5_Zimbabwe_-17.9_33.0_2021.csv\n",
      "/home/c4ubuntu/c4gdata/RiftValley_Zimbabwe//AgERA5_Zimbabwe_-18.0_32.7_2021.csv\n",
      "/home/c4ubuntu/c4gdata/RiftValley_Zimbabwe//AgERA5_Zimbabwe_-18.0_32.8_2021.csv\n",
      "/home/c4ubuntu/c4gdata/RiftValley_Zimbabwe//AgERA5_Zimbabwe_-18.0_32.9_2021.csv\n",
      "/home/c4ubuntu/c4gdata/RiftValley_Zimbabwe//AgERA5_Zimbabwe_-18.0_33.0_2021.csv\n",
      "/home/c4ubuntu/c4gdata/RiftValley_Zimbabwe//AgERA5_Zimbabwe_-18.1_32.7_2021.csv\n",
      "/home/c4ubuntu/c4gdata/RiftValley_Zimbabwe//AgERA5_Zimbabwe_-18.1_32.8_2021.csv\n",
      "/home/c4ubuntu/c4gdata/RiftValley_Zimbabwe//AgERA5_Zimbabwe_-18.1_32.9_2021.csv\n",
      "/home/c4ubuntu/c4gdata/RiftValley_Zimbabwe//AgERA5_Zimbabwe_-18.1_33.0_2021.csv\n",
      "/home/c4ubuntu/c4gdata/RiftValley_Zimbabwe//AgERA5_Zimbabwe_-18.2_32.7_2021.csv\n",
      "/home/c4ubuntu/c4gdata/RiftValley_Zimbabwe//AgERA5_Zimbabwe_-18.2_32.8_2021.csv\n",
      "/home/c4ubuntu/c4gdata/RiftValley_Zimbabwe//AgERA5_Zimbabwe_-18.2_32.9_2021.csv\n",
      "/home/c4ubuntu/c4gdata/RiftValley_Zimbabwe//AgERA5_Zimbabwe_-18.2_33.0_2021.csv\n",
      "/home/c4ubuntu/c4gdata/RiftValley_Zimbabwe//AgERA5_Zimbabwe_-18.3_32.7_2021.csv\n",
      "/home/c4ubuntu/c4gdata/RiftValley_Zimbabwe//AgERA5_Zimbabwe_-18.3_32.8_2021.csv\n",
      "/home/c4ubuntu/c4gdata/RiftValley_Zimbabwe//AgERA5_Zimbabwe_-18.3_32.9_2021.csv\n",
      "/home/c4ubuntu/c4gdata/RiftValley_Zimbabwe//AgERA5_Zimbabwe_-18.3_33.0_2021.csv\n",
      "/home/c4ubuntu/c4gdata/RiftValley_Zimbabwe//AgERA5_Zimbabwe_-18.4_32.7_2021.csv\n",
      "/home/c4ubuntu/c4gdata/RiftValley_Zimbabwe//AgERA5_Zimbabwe_-18.4_32.8_2021.csv\n",
      "/home/c4ubuntu/c4gdata/RiftValley_Zimbabwe//AgERA5_Zimbabwe_-18.4_32.9_2021.csv\n",
      "/home/c4ubuntu/c4gdata/RiftValley_Zimbabwe//AgERA5_Zimbabwe_-18.4_33.0_2021.csv\n",
      "/home/c4ubuntu/c4gdata/RiftValley_Zimbabwe//AgERA5_Zimbabwe_-18.5_32.7_2021.csv\n",
      "/home/c4ubuntu/c4gdata/RiftValley_Zimbabwe//AgERA5_Zimbabwe_-18.5_32.8_2021.csv\n",
      "/home/c4ubuntu/c4gdata/RiftValley_Zimbabwe//AgERA5_Zimbabwe_-18.5_32.9_2021.csv\n",
      "/home/c4ubuntu/c4gdata/RiftValley_Zimbabwe//AgERA5_Zimbabwe_-18.5_33.0_2021.csv\n",
      "/home/c4ubuntu/c4gdata/RiftValley_Zimbabwe//AgERA5_Zimbabwe_-18.6_32.7_2021.csv\n",
      "/home/c4ubuntu/c4gdata/RiftValley_Zimbabwe//AgERA5_Zimbabwe_-18.6_32.8_2021.csv\n",
      "/home/c4ubuntu/c4gdata/RiftValley_Zimbabwe//AgERA5_Zimbabwe_-18.6_32.9_2021.csv\n",
      "/home/c4ubuntu/c4gdata/RiftValley_Zimbabwe//AgERA5_Zimbabwe_-18.6_33.0_2021.csv\n",
      "/home/c4ubuntu/c4gdata/RiftValley_Zimbabwe//AgERA5_Zimbabwe_-18.7_32.7_2021.csv\n",
      "/home/c4ubuntu/c4gdata/RiftValley_Zimbabwe//AgERA5_Zimbabwe_-18.7_32.8_2021.csv\n",
      "/home/c4ubuntu/c4gdata/RiftValley_Zimbabwe//AgERA5_Zimbabwe_-18.7_32.9_2021.csv\n",
      "/home/c4ubuntu/c4gdata/RiftValley_Zimbabwe//AgERA5_Zimbabwe_-18.7_33.0_2021.csv\n",
      "/home/c4ubuntu/c4gdata/RiftValley_Zimbabwe//AgERA5_Zimbabwe_-17.6_32.7_2022.csv\n",
      "/home/c4ubuntu/c4gdata/RiftValley_Zimbabwe//AgERA5_Zimbabwe_-17.6_32.8_2022.csv\n",
      "/home/c4ubuntu/c4gdata/RiftValley_Zimbabwe//AgERA5_Zimbabwe_-17.6_32.9_2022.csv\n",
      "/home/c4ubuntu/c4gdata/RiftValley_Zimbabwe//AgERA5_Zimbabwe_-17.6_33.0_2022.csv\n",
      "/home/c4ubuntu/c4gdata/RiftValley_Zimbabwe//AgERA5_Zimbabwe_-17.7_32.7_2022.csv\n",
      "/home/c4ubuntu/c4gdata/RiftValley_Zimbabwe//AgERA5_Zimbabwe_-17.7_32.8_2022.csv\n",
      "/home/c4ubuntu/c4gdata/RiftValley_Zimbabwe//AgERA5_Zimbabwe_-17.7_32.9_2022.csv\n"
     ]
    },
    {
     "name": "stdout",
     "output_type": "stream",
     "text": [
      "/home/c4ubuntu/c4gdata/RiftValley_Zimbabwe//AgERA5_Zimbabwe_-17.7_33.0_2022.csv\n",
      "/home/c4ubuntu/c4gdata/RiftValley_Zimbabwe//AgERA5_Zimbabwe_-17.8_32.7_2022.csv\n",
      "/home/c4ubuntu/c4gdata/RiftValley_Zimbabwe//AgERA5_Zimbabwe_-17.8_32.8_2022.csv\n",
      "/home/c4ubuntu/c4gdata/RiftValley_Zimbabwe//AgERA5_Zimbabwe_-17.8_32.9_2022.csv\n",
      "/home/c4ubuntu/c4gdata/RiftValley_Zimbabwe//AgERA5_Zimbabwe_-17.8_33.0_2022.csv\n",
      "/home/c4ubuntu/c4gdata/RiftValley_Zimbabwe//AgERA5_Zimbabwe_-17.9_32.7_2022.csv\n",
      "/home/c4ubuntu/c4gdata/RiftValley_Zimbabwe//AgERA5_Zimbabwe_-17.9_32.8_2022.csv\n",
      "/home/c4ubuntu/c4gdata/RiftValley_Zimbabwe//AgERA5_Zimbabwe_-17.9_32.9_2022.csv\n",
      "/home/c4ubuntu/c4gdata/RiftValley_Zimbabwe//AgERA5_Zimbabwe_-17.9_33.0_2022.csv\n",
      "/home/c4ubuntu/c4gdata/RiftValley_Zimbabwe//AgERA5_Zimbabwe_-18.0_32.7_2022.csv\n",
      "/home/c4ubuntu/c4gdata/RiftValley_Zimbabwe//AgERA5_Zimbabwe_-18.0_32.8_2022.csv\n",
      "/home/c4ubuntu/c4gdata/RiftValley_Zimbabwe//AgERA5_Zimbabwe_-18.0_32.9_2022.csv\n",
      "/home/c4ubuntu/c4gdata/RiftValley_Zimbabwe//AgERA5_Zimbabwe_-18.0_33.0_2022.csv\n",
      "/home/c4ubuntu/c4gdata/RiftValley_Zimbabwe//AgERA5_Zimbabwe_-18.1_32.7_2022.csv\n",
      "/home/c4ubuntu/c4gdata/RiftValley_Zimbabwe//AgERA5_Zimbabwe_-18.1_32.8_2022.csv\n",
      "/home/c4ubuntu/c4gdata/RiftValley_Zimbabwe//AgERA5_Zimbabwe_-18.1_32.9_2022.csv\n",
      "/home/c4ubuntu/c4gdata/RiftValley_Zimbabwe//AgERA5_Zimbabwe_-18.1_33.0_2022.csv\n",
      "/home/c4ubuntu/c4gdata/RiftValley_Zimbabwe//AgERA5_Zimbabwe_-18.2_32.7_2022.csv\n",
      "/home/c4ubuntu/c4gdata/RiftValley_Zimbabwe//AgERA5_Zimbabwe_-18.2_32.8_2022.csv\n",
      "/home/c4ubuntu/c4gdata/RiftValley_Zimbabwe//AgERA5_Zimbabwe_-18.2_32.9_2022.csv\n",
      "/home/c4ubuntu/c4gdata/RiftValley_Zimbabwe//AgERA5_Zimbabwe_-18.2_33.0_2022.csv\n",
      "/home/c4ubuntu/c4gdata/RiftValley_Zimbabwe//AgERA5_Zimbabwe_-18.3_32.7_2022.csv\n",
      "/home/c4ubuntu/c4gdata/RiftValley_Zimbabwe//AgERA5_Zimbabwe_-18.3_32.8_2022.csv\n",
      "/home/c4ubuntu/c4gdata/RiftValley_Zimbabwe//AgERA5_Zimbabwe_-18.3_32.9_2022.csv\n",
      "/home/c4ubuntu/c4gdata/RiftValley_Zimbabwe//AgERA5_Zimbabwe_-18.3_33.0_2022.csv\n",
      "/home/c4ubuntu/c4gdata/RiftValley_Zimbabwe//AgERA5_Zimbabwe_-18.4_32.7_2022.csv\n",
      "/home/c4ubuntu/c4gdata/RiftValley_Zimbabwe//AgERA5_Zimbabwe_-18.4_32.8_2022.csv\n",
      "/home/c4ubuntu/c4gdata/RiftValley_Zimbabwe//AgERA5_Zimbabwe_-18.4_32.9_2022.csv\n",
      "/home/c4ubuntu/c4gdata/RiftValley_Zimbabwe//AgERA5_Zimbabwe_-18.4_33.0_2022.csv\n",
      "/home/c4ubuntu/c4gdata/RiftValley_Zimbabwe//AgERA5_Zimbabwe_-18.5_32.7_2022.csv\n",
      "/home/c4ubuntu/c4gdata/RiftValley_Zimbabwe//AgERA5_Zimbabwe_-18.5_32.8_2022.csv\n",
      "/home/c4ubuntu/c4gdata/RiftValley_Zimbabwe//AgERA5_Zimbabwe_-18.5_32.9_2022.csv\n",
      "/home/c4ubuntu/c4gdata/RiftValley_Zimbabwe//AgERA5_Zimbabwe_-18.5_33.0_2022.csv\n",
      "/home/c4ubuntu/c4gdata/RiftValley_Zimbabwe//AgERA5_Zimbabwe_-18.6_32.7_2022.csv\n",
      "/home/c4ubuntu/c4gdata/RiftValley_Zimbabwe//AgERA5_Zimbabwe_-18.6_32.8_2022.csv\n",
      "/home/c4ubuntu/c4gdata/RiftValley_Zimbabwe//AgERA5_Zimbabwe_-18.6_32.9_2022.csv\n",
      "/home/c4ubuntu/c4gdata/RiftValley_Zimbabwe//AgERA5_Zimbabwe_-18.6_33.0_2022.csv\n",
      "/home/c4ubuntu/c4gdata/RiftValley_Zimbabwe//AgERA5_Zimbabwe_-18.7_32.7_2022.csv\n",
      "/home/c4ubuntu/c4gdata/RiftValley_Zimbabwe//AgERA5_Zimbabwe_-18.7_32.8_2022.csv\n",
      "/home/c4ubuntu/c4gdata/RiftValley_Zimbabwe//AgERA5_Zimbabwe_-18.7_32.9_2022.csv\n",
      "/home/c4ubuntu/c4gdata/RiftValley_Zimbabwe//AgERA5_Zimbabwe_-18.7_33.0_2022.csv\n",
      "/home/c4ubuntu/c4gdata/RiftValley_Zimbabwe//AgERA5_Zimbabwe_-17.6_32.7_2023.csv\n",
      "/home/c4ubuntu/c4gdata/RiftValley_Zimbabwe//AgERA5_Zimbabwe_-17.6_32.8_2023.csv\n",
      "/home/c4ubuntu/c4gdata/RiftValley_Zimbabwe//AgERA5_Zimbabwe_-17.6_32.9_2023.csv\n",
      "/home/c4ubuntu/c4gdata/RiftValley_Zimbabwe//AgERA5_Zimbabwe_-17.6_33.0_2023.csv\n",
      "/home/c4ubuntu/c4gdata/RiftValley_Zimbabwe//AgERA5_Zimbabwe_-17.7_32.7_2023.csv\n",
      "/home/c4ubuntu/c4gdata/RiftValley_Zimbabwe//AgERA5_Zimbabwe_-17.7_32.8_2023.csv\n",
      "/home/c4ubuntu/c4gdata/RiftValley_Zimbabwe//AgERA5_Zimbabwe_-17.7_32.9_2023.csv\n",
      "/home/c4ubuntu/c4gdata/RiftValley_Zimbabwe//AgERA5_Zimbabwe_-17.7_33.0_2023.csv\n",
      "/home/c4ubuntu/c4gdata/RiftValley_Zimbabwe//AgERA5_Zimbabwe_-17.8_32.7_2023.csv\n",
      "/home/c4ubuntu/c4gdata/RiftValley_Zimbabwe//AgERA5_Zimbabwe_-17.8_32.8_2023.csv\n",
      "/home/c4ubuntu/c4gdata/RiftValley_Zimbabwe//AgERA5_Zimbabwe_-17.8_32.9_2023.csv\n",
      "/home/c4ubuntu/c4gdata/RiftValley_Zimbabwe//AgERA5_Zimbabwe_-17.8_33.0_2023.csv\n",
      "/home/c4ubuntu/c4gdata/RiftValley_Zimbabwe//AgERA5_Zimbabwe_-17.9_32.7_2023.csv\n",
      "/home/c4ubuntu/c4gdata/RiftValley_Zimbabwe//AgERA5_Zimbabwe_-17.9_32.8_2023.csv\n",
      "/home/c4ubuntu/c4gdata/RiftValley_Zimbabwe//AgERA5_Zimbabwe_-17.9_32.9_2023.csv\n",
      "/home/c4ubuntu/c4gdata/RiftValley_Zimbabwe//AgERA5_Zimbabwe_-17.9_33.0_2023.csv\n",
      "/home/c4ubuntu/c4gdata/RiftValley_Zimbabwe//AgERA5_Zimbabwe_-18.0_32.7_2023.csv\n",
      "/home/c4ubuntu/c4gdata/RiftValley_Zimbabwe//AgERA5_Zimbabwe_-18.0_32.8_2023.csv\n",
      "/home/c4ubuntu/c4gdata/RiftValley_Zimbabwe//AgERA5_Zimbabwe_-18.0_32.9_2023.csv\n",
      "/home/c4ubuntu/c4gdata/RiftValley_Zimbabwe//AgERA5_Zimbabwe_-18.0_33.0_2023.csv\n",
      "/home/c4ubuntu/c4gdata/RiftValley_Zimbabwe//AgERA5_Zimbabwe_-18.1_32.7_2023.csv\n",
      "/home/c4ubuntu/c4gdata/RiftValley_Zimbabwe//AgERA5_Zimbabwe_-18.1_32.8_2023.csv\n",
      "/home/c4ubuntu/c4gdata/RiftValley_Zimbabwe//AgERA5_Zimbabwe_-18.1_32.9_2023.csv\n",
      "/home/c4ubuntu/c4gdata/RiftValley_Zimbabwe//AgERA5_Zimbabwe_-18.1_33.0_2023.csv\n",
      "/home/c4ubuntu/c4gdata/RiftValley_Zimbabwe//AgERA5_Zimbabwe_-18.2_32.7_2023.csv\n",
      "/home/c4ubuntu/c4gdata/RiftValley_Zimbabwe//AgERA5_Zimbabwe_-18.2_32.8_2023.csv\n",
      "/home/c4ubuntu/c4gdata/RiftValley_Zimbabwe//AgERA5_Zimbabwe_-18.2_32.9_2023.csv\n",
      "/home/c4ubuntu/c4gdata/RiftValley_Zimbabwe//AgERA5_Zimbabwe_-18.2_33.0_2023.csv\n",
      "/home/c4ubuntu/c4gdata/RiftValley_Zimbabwe//AgERA5_Zimbabwe_-18.3_32.7_2023.csv\n",
      "/home/c4ubuntu/c4gdata/RiftValley_Zimbabwe//AgERA5_Zimbabwe_-18.3_32.8_2023.csv\n",
      "/home/c4ubuntu/c4gdata/RiftValley_Zimbabwe//AgERA5_Zimbabwe_-18.3_32.9_2023.csv\n",
      "/home/c4ubuntu/c4gdata/RiftValley_Zimbabwe//AgERA5_Zimbabwe_-18.3_33.0_2023.csv\n",
      "/home/c4ubuntu/c4gdata/RiftValley_Zimbabwe//AgERA5_Zimbabwe_-18.4_32.7_2023.csv\n",
      "/home/c4ubuntu/c4gdata/RiftValley_Zimbabwe//AgERA5_Zimbabwe_-18.4_32.8_2023.csv\n",
      "/home/c4ubuntu/c4gdata/RiftValley_Zimbabwe//AgERA5_Zimbabwe_-18.4_32.9_2023.csv\n",
      "/home/c4ubuntu/c4gdata/RiftValley_Zimbabwe//AgERA5_Zimbabwe_-18.4_33.0_2023.csv\n",
      "/home/c4ubuntu/c4gdata/RiftValley_Zimbabwe//AgERA5_Zimbabwe_-18.5_32.7_2023.csv\n",
      "/home/c4ubuntu/c4gdata/RiftValley_Zimbabwe//AgERA5_Zimbabwe_-18.5_32.8_2023.csv\n",
      "/home/c4ubuntu/c4gdata/RiftValley_Zimbabwe//AgERA5_Zimbabwe_-18.5_32.9_2023.csv\n",
      "/home/c4ubuntu/c4gdata/RiftValley_Zimbabwe//AgERA5_Zimbabwe_-18.5_33.0_2023.csv\n",
      "/home/c4ubuntu/c4gdata/RiftValley_Zimbabwe//AgERA5_Zimbabwe_-18.6_32.7_2023.csv\n",
      "/home/c4ubuntu/c4gdata/RiftValley_Zimbabwe//AgERA5_Zimbabwe_-18.6_32.8_2023.csv\n",
      "/home/c4ubuntu/c4gdata/RiftValley_Zimbabwe//AgERA5_Zimbabwe_-18.6_32.9_2023.csv\n",
      "/home/c4ubuntu/c4gdata/RiftValley_Zimbabwe//AgERA5_Zimbabwe_-18.6_33.0_2023.csv\n",
      "/home/c4ubuntu/c4gdata/RiftValley_Zimbabwe//AgERA5_Zimbabwe_-18.7_32.7_2023.csv\n",
      "/home/c4ubuntu/c4gdata/RiftValley_Zimbabwe//AgERA5_Zimbabwe_-18.7_32.8_2023.csv\n",
      "/home/c4ubuntu/c4gdata/RiftValley_Zimbabwe//AgERA5_Zimbabwe_-18.7_32.9_2023.csv\n",
      "/home/c4ubuntu/c4gdata/RiftValley_Zimbabwe//AgERA5_Zimbabwe_-18.7_33.0_2023.csv\n"
     ]
    }
   ],
   "source": [
    "for year in np.unique(ds.time.dt.year.values):\n",
    "    year_ds = ds.where(ds.time.dt.year == year, drop=True)\n",
    "    year_ds1 = ds1.where(ds1.time.dt.year == year, drop=True)\n",
    "    year_ds2 = ds2.where(ds2.time.dt.year == year, drop=True)\n",
    "    \n",
    "    year_ds['time'] = year_ds.time.dt.dayofyear\n",
    "    year_ds1['time'] = year_ds1.time.dt.dayofyear\n",
    "    year_ds2['time'] = year_ds2.time.dt.dayofyear\n",
    "    \n",
    "    dates = year_ds.time.astype(str).values\n",
    "    signifdigits=3\n",
    "    \n",
    "    tasmin=year_ds[\"Temperature_Air_2m_Min_24h\"]-273.15\n",
    "    tasmax=year_ds1[\"Temperature_Air_2m_Max_24h\"]-273.15\n",
    "    pr=year_ds2[\"Precipitation_Flux\"]\n",
    "    \n",
    "    data_type = 'AgERA5'\n",
    "\n",
    "    #iterating through latitudes and longitudes\n",
    "    for lat in ds.lat.data:\n",
    "        for lon in ds.lon.data:\n",
    "            latstring=np.round(lat.data,2)\n",
    "            lonstring=np.round(lon.data,2)\n",
    "            header = f'Station_{latstring}_{lonstring}\\n'\n",
    "            outfilename=\"{}_{}_{}_{}_{}.csv\".format(data_type,country,latstring,lonstring, year)\n",
    "            outfile=\"{}/{}\".format(outdir,outfilename)\n",
    "            #data for given lat and lon\n",
    "            site_tasmin=np.round(tasmin.sel(lat=lat, lon=lon).data,signifdigits)\n",
    "            site_tasmax=np.round(tasmax.sel(lat=lat, lon=lon).data,signifdigits)\n",
    "            site_pr=np.round(pr.sel(lat=lat, lon=lon).data,signifdigits)\n",
    "            if np.count_nonzero(np.isnan(site_tasmax)) == 0:  \n",
    "            #opening file for writing\n",
    "                with open(outfile, \"w\") as outf:\n",
    "                    outf.write(header)\n",
    "                #iterating through time steps\n",
    "                    for i in range(site_tasmin.shape[0]-1):\n",
    "                        line=f\"{dates[i]}\\t%.2f\\t%.2f\\t%.2f\\n\"%(site_tasmax[i],site_tasmin[i],\n",
    "                                                                            site_pr[i])\n",
    "                        outf.write(line)\n",
    "                print(outfile)"
   ]
  },
  {
   "cell_type": "code",
   "execution_count": 20,
   "metadata": {},
   "outputs": [],
   "source": [
    "ds = ds.groupby('time.dayofyear').mean(dim='time')\n",
    "ds1 = ds1.groupby('time.dayofyear').mean(dim='time')\n",
    "ds2 = ds2.groupby('time.dayofyear').mean(dim='time')"
   ]
  },
  {
   "cell_type": "code",
   "execution_count": 21,
   "metadata": {},
   "outputs": [],
   "source": [
    "dates = ds.dayofyear.astype(str).values\n",
    "signifdigits=3"
   ]
  },
  {
   "cell_type": "code",
   "execution_count": 22,
   "metadata": {},
   "outputs": [],
   "source": [
    "tasmin=ds[\"Temperature_Air_2m_Min_24h\"]-273.15\n",
    "tasmax=ds1[\"Temperature_Air_2m_Max_24h\"]-273.15\n",
    "pr=ds2[\"Precipitation_Flux\"]"
   ]
  },
  {
   "cell_type": "code",
   "execution_count": 23,
   "metadata": {},
   "outputs": [
    {
     "data": {
      "text/plain": [
       "365"
      ]
     },
     "execution_count": 23,
     "metadata": {},
     "output_type": "execute_result"
    }
   ],
   "source": [
    "tasmin.shape[0]-1"
   ]
  },
  {
   "cell_type": "code",
   "execution_count": 24,
   "metadata": {},
   "outputs": [
    {
     "name": "stdout",
     "output_type": "stream",
     "text": [
      "/home/c4ubuntu/c4gdata/RiftValley_Zimbabwe//AgERA5_Zimbabwe_-17.6_32.7.csv\n",
      "/home/c4ubuntu/c4gdata/RiftValley_Zimbabwe//AgERA5_Zimbabwe_-17.6_32.8.csv\n",
      "/home/c4ubuntu/c4gdata/RiftValley_Zimbabwe//AgERA5_Zimbabwe_-17.6_32.9.csv\n",
      "/home/c4ubuntu/c4gdata/RiftValley_Zimbabwe//AgERA5_Zimbabwe_-17.6_33.0.csv\n",
      "/home/c4ubuntu/c4gdata/RiftValley_Zimbabwe//AgERA5_Zimbabwe_-17.7_32.7.csv\n",
      "/home/c4ubuntu/c4gdata/RiftValley_Zimbabwe//AgERA5_Zimbabwe_-17.7_32.8.csv\n",
      "/home/c4ubuntu/c4gdata/RiftValley_Zimbabwe//AgERA5_Zimbabwe_-17.7_32.9.csv\n",
      "/home/c4ubuntu/c4gdata/RiftValley_Zimbabwe//AgERA5_Zimbabwe_-17.7_33.0.csv\n",
      "/home/c4ubuntu/c4gdata/RiftValley_Zimbabwe//AgERA5_Zimbabwe_-17.8_32.7.csv\n",
      "/home/c4ubuntu/c4gdata/RiftValley_Zimbabwe//AgERA5_Zimbabwe_-17.8_32.8.csv\n",
      "/home/c4ubuntu/c4gdata/RiftValley_Zimbabwe//AgERA5_Zimbabwe_-17.8_32.9.csv\n",
      "/home/c4ubuntu/c4gdata/RiftValley_Zimbabwe//AgERA5_Zimbabwe_-17.8_33.0.csv\n",
      "/home/c4ubuntu/c4gdata/RiftValley_Zimbabwe//AgERA5_Zimbabwe_-17.9_32.7.csv\n",
      "/home/c4ubuntu/c4gdata/RiftValley_Zimbabwe//AgERA5_Zimbabwe_-17.9_32.8.csv\n",
      "/home/c4ubuntu/c4gdata/RiftValley_Zimbabwe//AgERA5_Zimbabwe_-17.9_32.9.csv\n",
      "/home/c4ubuntu/c4gdata/RiftValley_Zimbabwe//AgERA5_Zimbabwe_-17.9_33.0.csv\n",
      "/home/c4ubuntu/c4gdata/RiftValley_Zimbabwe//AgERA5_Zimbabwe_-18.0_32.7.csv\n",
      "/home/c4ubuntu/c4gdata/RiftValley_Zimbabwe//AgERA5_Zimbabwe_-18.0_32.8.csv\n",
      "/home/c4ubuntu/c4gdata/RiftValley_Zimbabwe//AgERA5_Zimbabwe_-18.0_32.9.csv\n",
      "/home/c4ubuntu/c4gdata/RiftValley_Zimbabwe//AgERA5_Zimbabwe_-18.0_33.0.csv\n",
      "/home/c4ubuntu/c4gdata/RiftValley_Zimbabwe//AgERA5_Zimbabwe_-18.1_32.7.csv\n",
      "/home/c4ubuntu/c4gdata/RiftValley_Zimbabwe//AgERA5_Zimbabwe_-18.1_32.8.csv\n",
      "/home/c4ubuntu/c4gdata/RiftValley_Zimbabwe//AgERA5_Zimbabwe_-18.1_32.9.csv\n",
      "/home/c4ubuntu/c4gdata/RiftValley_Zimbabwe//AgERA5_Zimbabwe_-18.1_33.0.csv\n",
      "/home/c4ubuntu/c4gdata/RiftValley_Zimbabwe//AgERA5_Zimbabwe_-18.2_32.7.csv\n",
      "/home/c4ubuntu/c4gdata/RiftValley_Zimbabwe//AgERA5_Zimbabwe_-18.2_32.8.csv\n",
      "/home/c4ubuntu/c4gdata/RiftValley_Zimbabwe//AgERA5_Zimbabwe_-18.2_32.9.csv\n",
      "/home/c4ubuntu/c4gdata/RiftValley_Zimbabwe//AgERA5_Zimbabwe_-18.2_33.0.csv\n",
      "/home/c4ubuntu/c4gdata/RiftValley_Zimbabwe//AgERA5_Zimbabwe_-18.3_32.7.csv\n",
      "/home/c4ubuntu/c4gdata/RiftValley_Zimbabwe//AgERA5_Zimbabwe_-18.3_32.8.csv\n",
      "/home/c4ubuntu/c4gdata/RiftValley_Zimbabwe//AgERA5_Zimbabwe_-18.3_32.9.csv\n",
      "/home/c4ubuntu/c4gdata/RiftValley_Zimbabwe//AgERA5_Zimbabwe_-18.3_33.0.csv\n",
      "/home/c4ubuntu/c4gdata/RiftValley_Zimbabwe//AgERA5_Zimbabwe_-18.4_32.7.csv\n",
      "/home/c4ubuntu/c4gdata/RiftValley_Zimbabwe//AgERA5_Zimbabwe_-18.4_32.8.csv\n",
      "/home/c4ubuntu/c4gdata/RiftValley_Zimbabwe//AgERA5_Zimbabwe_-18.4_32.9.csv\n",
      "/home/c4ubuntu/c4gdata/RiftValley_Zimbabwe//AgERA5_Zimbabwe_-18.4_33.0.csv\n",
      "/home/c4ubuntu/c4gdata/RiftValley_Zimbabwe//AgERA5_Zimbabwe_-18.5_32.7.csv\n",
      "/home/c4ubuntu/c4gdata/RiftValley_Zimbabwe//AgERA5_Zimbabwe_-18.5_32.8.csv\n",
      "/home/c4ubuntu/c4gdata/RiftValley_Zimbabwe//AgERA5_Zimbabwe_-18.5_32.9.csv\n",
      "/home/c4ubuntu/c4gdata/RiftValley_Zimbabwe//AgERA5_Zimbabwe_-18.5_33.0.csv\n",
      "/home/c4ubuntu/c4gdata/RiftValley_Zimbabwe//AgERA5_Zimbabwe_-18.6_32.7.csv\n",
      "/home/c4ubuntu/c4gdata/RiftValley_Zimbabwe//AgERA5_Zimbabwe_-18.6_32.8.csv\n",
      "/home/c4ubuntu/c4gdata/RiftValley_Zimbabwe//AgERA5_Zimbabwe_-18.6_32.9.csv\n",
      "/home/c4ubuntu/c4gdata/RiftValley_Zimbabwe//AgERA5_Zimbabwe_-18.6_33.0.csv\n",
      "/home/c4ubuntu/c4gdata/RiftValley_Zimbabwe//AgERA5_Zimbabwe_-18.7_32.7.csv\n",
      "/home/c4ubuntu/c4gdata/RiftValley_Zimbabwe//AgERA5_Zimbabwe_-18.7_32.8.csv\n",
      "/home/c4ubuntu/c4gdata/RiftValley_Zimbabwe//AgERA5_Zimbabwe_-18.7_32.9.csv\n",
      "/home/c4ubuntu/c4gdata/RiftValley_Zimbabwe//AgERA5_Zimbabwe_-18.7_33.0.csv\n"
     ]
    }
   ],
   "source": [
    "data_type = 'AgERA5'\n",
    "\n",
    "#iterating through latitudes and longitudes\n",
    "for lat in ds.lat.data:\n",
    "    for lon in ds.lon.data:\n",
    "        latstring=np.round(lat.data,2)\n",
    "        lonstring=np.round(lon.data,2)\n",
    "        header = f'Station_{latstring}_{lonstring}\\n'\n",
    "        outfilename=\"{}_{}_{}_{}.csv\".format(data_type,country,latstring,lonstring)\n",
    "        outfile=\"{}/{}\".format(outdir,outfilename)\n",
    "        #data for given lat and lon\n",
    "        site_tasmin=np.round(tasmin.sel(lat=lat, lon=lon).data,signifdigits)\n",
    "        site_tasmax=np.round(tasmax.sel(lat=lat, lon=lon).data,signifdigits)\n",
    "        site_pr=np.round(pr.sel(lat=lat, lon=lon).data,signifdigits)\n",
    "        if np.count_nonzero(np.isnan(site_tasmax)) == 0:  \n",
    "        #opening file for writing\n",
    "            with open(outfile, \"w\") as outf:\n",
    "                outf.write(header)\n",
    "            #iterating through time steps\n",
    "                for i in range(site_tasmin.shape[0]-1):\n",
    "                    line=f\"{dates[i]}\\t%.2f\\t%.2f\\t%.2f\\n\"%(site_tasmax[i],site_tasmin[i],\n",
    "                                                                        site_pr[i])\n",
    "                    outf.write(line)\n",
    "            print(outfile)"
   ]
  },
  {
   "cell_type": "code",
   "execution_count": null,
   "metadata": {},
   "outputs": [],
   "source": []
  },
  {
   "cell_type": "code",
   "execution_count": null,
   "metadata": {},
   "outputs": [],
   "source": []
  }
 ],
 "metadata": {
  "kernelspec": {
   "display_name": "Python 3 (ipykernel)",
   "language": "python",
   "name": "python3"
  },
  "language_info": {
   "codemirror_mode": {
    "name": "ipython",
    "version": 3
   },
   "file_extension": ".py",
   "mimetype": "text/x-python",
   "name": "python",
   "nbconvert_exporter": "python",
   "pygments_lexer": "ipython3",
   "version": "3.9.12"
  },
  "nbTranslate": {
   "displayLangs": [
    "*"
   ],
   "hotkey": "alt-t",
   "langInMainMenu": true,
   "sourceLang": "en",
   "targetLang": "fr",
   "useGoogleTranslate": true
  },
  "toc": {
   "base_numbering": 1,
   "nav_menu": {},
   "number_sections": true,
   "sideBar": true,
   "skip_h1_title": false,
   "title_cell": "Table of Contents",
   "title_sidebar": "Contents",
   "toc_cell": false,
   "toc_position": {},
   "toc_section_display": true,
   "toc_window_display": false
  },
  "vscode": {
   "interpreter": {
    "hash": "a619a3e580409126cc44b05b414d75e5414ec3ffa31020c3aba01dc643503166"
   }
  }
 },
 "nbformat": 4,
 "nbformat_minor": 2
}
